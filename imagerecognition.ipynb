{
 "cells": [
  {
   "cell_type": "markdown",
   "metadata": {},
   "source": [
    "# Assignment 12 - Neural Networks image recognition\n",
    "Use both MLNN and the ConvNet to solve the following problem."
   ]
  },
  {
   "cell_type": "markdown",
   "metadata": {},
   "source": [
    "# Neural Networks - Image Recognition "
   ]
  },
  {
   "cell_type": "code",
   "execution_count": 1,
   "metadata": {
    "scrolled": true
   },
   "outputs": [
    {
     "name": "stderr",
     "output_type": "stream",
     "text": [
      "Using TensorFlow backend.\n"
     ]
    }
   ],
   "source": [
    "import keras\n",
    "from keras.datasets import mnist\n",
    "from keras.models import Sequential\n",
    "from keras.optimizers import RMSprop\n",
    "from keras.layers import Dense, Dropout, Flatten\n",
    "from keras.layers import Conv2D, MaxPooling2D\n",
    "from keras import backend"
   ]
  },
  {
   "cell_type": "code",
   "execution_count": 2,
   "metadata": {
    "collapsed": true
   },
   "outputs": [],
   "source": [
    "import numpy as np\n",
    "import pandas as pd\n",
    "import matplotlib.pyplot as plt\n",
    "%matplotlib inline"
   ]
  },
  {
   "cell_type": "markdown",
   "metadata": {},
   "source": [
    "## 1. Add random noise (i.e. `np.random.normal`) to the images in training and testing. Make sure each image gets a different noise feature added to it. Inspect by printing out an image. "
   ]
  },
  {
   "cell_type": "markdown",
   "metadata": {},
   "source": [
    "## Multi Layer Neural Network\n",
    "Trains a simple deep NN on the MNIST dataset.\n",
    "Gets to 98.40% test accuracy after 20 epochs\n",
    "(there is *a lot* of margin for parameter tuning)."
   ]
  },
  {
   "cell_type": "code",
   "execution_count": 4,
   "metadata": {
    "scrolled": false
   },
   "outputs": [
    {
     "name": "stdout",
     "output_type": "stream",
     "text": [
      "60000 train samples\n",
      "10000 test samples\n"
     ]
    }
   ],
   "source": [
    "# the data, shuffled and split between train and test sets\n",
    "(x_train, y_train), (x_test, y_test) = mnist.load_data()\n",
    "\n",
    "x_train = x_train.reshape(60000, 784)\n",
    "x_test = x_test.reshape(10000, 784)\n",
    "x_train = x_train.astype('float32')\n",
    "x_test = x_test.astype('float32')\n",
    "x_train /= 255\n",
    "x_test /= 255\n",
    "print(x_train.shape[0], 'train samples')\n",
    "print(x_test.shape[0], 'test samples')"
   ]
  },
  {
   "cell_type": "code",
   "execution_count": 6,
   "metadata": {},
   "outputs": [
    {
     "data": {
      "text/plain": [
       "(60000, 784)"
      ]
     },
     "execution_count": 6,
     "metadata": {},
     "output_type": "execute_result"
    }
   ],
   "source": [
    "x_train.shape"
   ]
  },
  {
   "cell_type": "code",
   "execution_count": 8,
   "metadata": {
    "collapsed": true
   },
   "outputs": [],
   "source": [
    "x_train_noise = x_train + np.random.rand(*x_train.shape)\n",
    "x_test_noise = x_test + np.random.rand(*x_test.shape)"
   ]
  },
  {
   "cell_type": "markdown",
   "metadata": {},
   "source": [
    "### Confirming noise was added. The new image is significantly less clear than the original."
   ]
  },
  {
   "cell_type": "code",
   "execution_count": 9,
   "metadata": {
    "scrolled": true
   },
   "outputs": [
    {
     "data": {
      "text/plain": [
       "<matplotlib.image.AxesImage at 0x1322817f0>"
      ]
     },
     "execution_count": 9,
     "metadata": {},
     "output_type": "execute_result"
    },
    {
     "data": {
      "image/png": "[encoded data removed]",
      "text/plain": [
       "<matplotlib.figure.Figure at 0x118edfac8>"
      ]
     },
     "metadata": {},
     "output_type": "display_data"
    }
   ],
   "source": [
    "plt.imshow(x_train[0].reshape(28,28))"
   ]
  },
  {
   "cell_type": "code",
   "execution_count": 10,
   "metadata": {
    "scrolled": true
   },
   "outputs": [
    {
     "data": {
      "text/plain": [
       "<matplotlib.image.AxesImage at 0x132432940>"
      ]
     },
     "execution_count": 10,
     "metadata": {},
     "output_type": "execute_result"
    },
    {
     "data": {
      "image/png": "[encoded data removed]",
      "text/plain": [
       "<matplotlib.figure.Figure at 0x1323557f0>"
      ]
     },
     "metadata": {},
     "output_type": "display_data"
    }
   ],
   "source": [
    "plt.imshow(x_train_noise[0].reshape(28,28))"
   ]
  },
  {
   "cell_type": "markdown",
   "metadata": {},
   "source": [
    "## As you can see from comparing the below image of 0, and the image of 5, the variations in color are not the same, and therefore a different noise lens was added to each image."
   ]
  },
  {
   "cell_type": "code",
   "execution_count": 11,
   "metadata": {
    "scrolled": true
   },
   "outputs": [
    {
     "data": {
      "text/plain": [
       "<matplotlib.image.AxesImage at 0x132503b00>"
      ]
     },
     "execution_count": 11,
     "metadata": {},
     "output_type": "execute_result"
    },
    {
     "data": {
      "image/png": "[encoded data removed]",
      "text/plain": [
       "<matplotlib.figure.Figure at 0x132445f98>"
      ]
     },
     "metadata": {},
     "output_type": "display_data"
    }
   ],
   "source": [
    "plt.imshow(x_train_noise[1].reshape(28,28))"
   ]
  },
  {
   "cell_type": "code",
   "execution_count": 16,
   "metadata": {
    "scrolled": false
   },
   "outputs": [
    {
     "name": "stdout",
     "output_type": "stream",
     "text": [
      "_________________________________________________________________\n",
      "Layer (type)                 Output Shape              Param #   \n",
      "=================================================================\n",
      "dense_1 (Dense)              (None, 512)               401920    \n",
      "_________________________________________________________________\n",
      "dropout_1 (Dropout)          (None, 512)               0         \n",
      "_________________________________________________________________\n",
      "dense_2 (Dense)              (None, 512)               262656    \n",
      "_________________________________________________________________\n",
      "dropout_2 (Dropout)          (None, 512)               0         \n",
      "_________________________________________________________________\n",
      "dense_3 (Dense)              (None, 10)                5130      \n",
      "=================================================================\n",
      "Total params: 669,706\n",
      "Trainable params: 669,706\n",
      "Non-trainable params: 0\n",
      "_________________________________________________________________\n",
      "Train on 60000 samples, validate on 10000 samples\n",
      "Epoch 1/10\n",
      "60000/60000 [==============================] - 14s - loss: 0.2468 - acc: 0.9230 - val_loss: 0.1124 - val_acc: 0.9663\n",
      "Epoch 2/10\n",
      "60000/60000 [==============================] - 13s - loss: 0.1022 - acc: 0.9694 - val_loss: 0.0878 - val_acc: 0.9745\n",
      "Epoch 3/10\n",
      "60000/60000 [==============================] - 11s - loss: 0.0750 - acc: 0.9767 - val_loss: 0.0804 - val_acc: 0.9760\n",
      "Epoch 4/10\n",
      "60000/60000 [==============================] - 13s - loss: 0.0599 - acc: 0.9820 - val_loss: 0.0768 - val_acc: 0.9779\n",
      "Epoch 5/10\n",
      "60000/60000 [==============================] - 13s - loss: 0.0509 - acc: 0.9853 - val_loss: 0.0742 - val_acc: 0.9810\n",
      "Epoch 6/10\n",
      "60000/60000 [==============================] - 13s - loss: 0.0435 - acc: 0.9868 - val_loss: 0.0910 - val_acc: 0.9767\n",
      "Epoch 7/10\n",
      "60000/60000 [==============================] - 13s - loss: 0.0400 - acc: 0.9886 - val_loss: 0.0744 - val_acc: 0.9827\n",
      "Epoch 8/10\n",
      "60000/60000 [==============================] - 15s - loss: 0.0335 - acc: 0.9902 - val_loss: 0.0820 - val_acc: 0.9812\n",
      "Epoch 9/10\n",
      "60000/60000 [==============================] - 12s - loss: 0.0294 - acc: 0.9913 - val_loss: 0.0852 - val_acc: 0.9817\n",
      "Epoch 10/10\n",
      "60000/60000 [==============================] - 13s - loss: 0.0278 - acc: 0.9917 - val_loss: 0.1032 - val_acc: 0.9802\n",
      "Test loss: 0.10323239263\n",
      "Test accuracy: 0.9802\n"
     ]
    }
   ],
   "source": [
    "# without noise\n",
    "\n",
    "batch_size = 128\n",
    "num_classes = 10\n",
    "epochs = 10\n",
    "\n",
    "\n",
    "# convert class vectors to binary class matrices\n",
    "y_train = keras.utils.to_categorical(y_train, num_classes)\n",
    "y_test = keras.utils.to_categorical(y_test, num_classes)\n",
    "\n",
    "model = Sequential()\n",
    "model.add(Dense(512, activation='relu', input_shape=(784,)))\n",
    "model.add(Dropout(0.2))\n",
    "model.add(Dense(512, activation='relu'))\n",
    "model.add(Dropout(0.2))\n",
    "model.add(Dense(10, activation='softmax'))\n",
    "\n",
    "model.summary()\n",
    "\n",
    "model.compile(loss='categorical_crossentropy',\n",
    "              optimizer=RMSprop(),\n",
    "              metrics=['accuracy'])\n",
    "\n",
    "history = model.fit(x_train, y_train,\n",
    "                    batch_size=batch_size,\n",
    "                    epochs=epochs,\n",
    "                    verbose=1,\n",
    "                    validation_data=(x_test, y_test))\n",
    "score = model.evaluate(x_test, y_test, verbose=0)\n",
    "print('Test loss:', score[0])\n",
    "print('Test accuracy:', score[1])"
   ]
  },
  {
   "cell_type": "code",
   "execution_count": 14,
   "metadata": {},
   "outputs": [
    {
     "data": {
      "text/plain": [
       "[{'accuracy': 0.9545, 'loss': 0.173174991914, 'model': 'mlnn', 'noise': 'yes'},\n",
       " {'accuracy': 0.9802, 'loss': 0.10323239263, 'model': 'mlnn', 'noise': 'no'}]"
      ]
     },
     "execution_count": 14,
     "metadata": {},
     "output_type": "execute_result"
    }
   ],
   "source": [
    "scores.append({'model': 'mlnn', 'noise':'no','loss':0.10323239263, 'accuracy': 0.9802})\n",
    "\n",
    "scores"
   ]
  },
  {
   "cell_type": "code",
   "execution_count": 17,
   "metadata": {
    "scrolled": true
   },
   "outputs": [
    {
     "name": "stdout",
     "output_type": "stream",
     "text": [
      "_________________________________________________________________\n",
      "Layer (type)                 Output Shape              Param #   \n",
      "=================================================================\n",
      "dense_4 (Dense)              (None, 512)               401920    \n",
      "_________________________________________________________________\n",
      "dropout_3 (Dropout)          (None, 512)               0         \n",
      "_________________________________________________________________\n",
      "dense_5 (Dense)              (None, 512)               262656    \n",
      "_________________________________________________________________\n",
      "dropout_4 (Dropout)          (None, 512)               0         \n",
      "_________________________________________________________________\n",
      "dense_6 (Dense)              (None, 10)                5130      \n",
      "=================================================================\n",
      "Total params: 669,706\n",
      "Trainable params: 669,706\n",
      "Non-trainable params: 0\n",
      "_________________________________________________________________\n",
      "Train on 60000 samples, validate on 10000 samples\n",
      "Epoch 1/10\n",
      "60000/60000 [==============================] - 13s - loss: 0.8882 - acc: 0.7122 - val_loss: 0.7153 - val_acc: 0.7586\n",
      "Epoch 2/10\n",
      "60000/60000 [==============================] - 13s - loss: 0.4127 - acc: 0.8678 - val_loss: 0.2539 - val_acc: 0.9213\n",
      "Epoch 3/10\n",
      "60000/60000 [==============================] - 12s - loss: 0.3053 - acc: 0.9029 - val_loss: 0.2809 - val_acc: 0.9129\n",
      "Epoch 4/10\n",
      "60000/60000 [==============================] - 12s - loss: 0.2537 - acc: 0.9203 - val_loss: 0.2166 - val_acc: 0.9323\n",
      "Epoch 5/10\n",
      "60000/60000 [==============================] - 12s - loss: 0.2168 - acc: 0.9322 - val_loss: 0.2163 - val_acc: 0.9355\n",
      "Epoch 6/10\n",
      "60000/60000 [==============================] - 11s - loss: 0.1961 - acc: 0.9384 - val_loss: 0.1694 - val_acc: 0.9493\n",
      "Epoch 7/10\n",
      "60000/60000 [==============================] - 13s - loss: 0.1746 - acc: 0.9455 - val_loss: 0.1686 - val_acc: 0.9498.\n",
      "Epoch 8/10\n",
      "60000/60000 [==============================] - 13s - loss: 0.1632 - acc: 0.9495 - val_loss: 0.2605 - val_acc: 0.9379\n",
      "Epoch 9/10\n",
      "60000/60000 [==============================] - 12s - loss: 0.1550 - acc: 0.9516 - val_loss: 0.1931 - val_acc: 0.9524\n",
      "Epoch 10/10\n",
      "60000/60000 [==============================] - 14s - loss: 0.1431 - acc: 0.9561 - val_loss: 0.1732 - val_acc: 0.9545\n",
      "Test loss: 0.173174991914\n",
      "Test accuracy: 0.9545\n"
     ]
    }
   ],
   "source": [
    "# with noise\n",
    "\n",
    "batch_size = 128\n",
    "num_classes = 10\n",
    "epochs = 10\n",
    "\n",
    "\n",
    "# convert class vectors to binary class matrices\n",
    "# y_train = keras.utils.to_categorical(y_train, num_classes)\n",
    "# y_test = keras.utils.to_categorical(y_test, num_classes)\n",
    "\n",
    "model = Sequential()\n",
    "model.add(Dense(512, activation='relu', input_shape=(784,)))\n",
    "model.add(Dropout(0.2))\n",
    "model.add(Dense(512, activation='relu'))\n",
    "model.add(Dropout(0.2))\n",
    "model.add(Dense(10, activation='softmax'))\n",
    "\n",
    "model.summary()\n",
    "\n",
    "model.compile(loss='categorical_crossentropy',\n",
    "              optimizer=RMSprop(),\n",
    "              metrics=['accuracy'])\n",
    "\n",
    "history = model.fit(x_train_noise, y_train,\n",
    "                    batch_size=batch_size,\n",
    "                    epochs=epochs,\n",
    "                    verbose=1,\n",
    "                    validation_data=(x_test_noise, y_test))\n",
    "score = model.evaluate(x_test_noise, y_test, verbose=0)\n",
    "print('Test loss:', score[0])\n",
    "print('Test accuracy:', score[1])"
   ]
  },
  {
   "cell_type": "code",
   "execution_count": 13,
   "metadata": {},
   "outputs": [
    {
     "data": {
      "text/plain": [
       "[{'accuracy': 0.9545, 'loss': 0.173174991914, 'model': 'mlnn', 'noise': 'yes'}]"
      ]
     },
     "execution_count": 13,
     "metadata": {},
     "output_type": "execute_result"
    }
   ],
   "source": [
    "scores = []\n",
    "scores.append({'model': 'mlnn', 'noise':'yes','loss':0.173174991914, 'accuracy': 0.9545})\n",
    "\n",
    "scores"
   ]
  },
  {
   "cell_type": "markdown",
   "metadata": {},
   "source": [
    "## Conv Net\n",
    "Trains a simple convnet on the MNIST dataset.\n",
    "Gets to 99.25% test accuracy after 12 epochs\n",
    "(there is still a lot of margin for parameter tuning).\n"
   ]
  },
  {
   "cell_type": "code",
   "execution_count": 3,
   "metadata": {
    "scrolled": false
   },
   "outputs": [
    {
     "name": "stdout",
     "output_type": "stream",
     "text": [
      "x_train shape: (60000, 28, 28, 1)\n",
      "60000 train samples\n",
      "10000 test samples\n"
     ]
    }
   ],
   "source": [
    "# input image dimensions\n",
    "img_rows, img_cols = 28, 28\n",
    "\n",
    "# the data, shuffled and split between train and test sets\n",
    "(x_train, y_train), (x_test, y_test) = mnist.load_data()\n",
    "\n",
    "if backend.image_data_format() == 'channels_first':\n",
    "    x_train = x_train.reshape(x_train.shape[0], 1, img_rows, img_cols)\n",
    "    x_test = x_test.reshape(x_test.shape[0], 1, img_rows, img_cols)\n",
    "    input_shape = (1, img_rows, img_cols)\n",
    "else:\n",
    "    x_train = x_train.reshape(x_train.shape[0], img_rows, img_cols, 1)\n",
    "    x_test = x_test.reshape(x_test.shape[0], img_rows, img_cols, 1)\n",
    "    input_shape = (img_rows, img_cols, 1)\n",
    "\n",
    "x_train = x_train.astype('float32')\n",
    "x_test = x_test.astype('float32')\n",
    "x_train /= 255\n",
    "x_test /= 255\n",
    "print('x_train shape:', x_train.shape)\n",
    "print(x_train.shape[0], 'train samples')\n",
    "print(x_test.shape[0], 'test samples')"
   ]
  },
  {
   "cell_type": "code",
   "execution_count": 4,
   "metadata": {},
   "outputs": [
    {
     "data": {
      "text/plain": [
       "((60000, 28, 28, 1), (60000,))"
      ]
     },
     "execution_count": 4,
     "metadata": {},
     "output_type": "execute_result"
    }
   ],
   "source": [
    "x_train.shape, y_train.shape"
   ]
  },
  {
   "cell_type": "code",
   "execution_count": 5,
   "metadata": {
    "collapsed": true
   },
   "outputs": [],
   "source": [
    "x_train_noise = x_train + np.random.rand(*x_train.shape)"
   ]
  },
  {
   "cell_type": "code",
   "execution_count": 6,
   "metadata": {
    "collapsed": true
   },
   "outputs": [],
   "source": [
    "x_test_noise = x_test + np.random.rand(*x_test.shape)"
   ]
  },
  {
   "cell_type": "code",
   "execution_count": 7,
   "metadata": {
    "scrolled": true
   },
   "outputs": [
    {
     "data": {
      "text/plain": [
       "<matplotlib.image.AxesImage at 0x13fdc0908>"
      ]
     },
     "execution_count": 7,
     "metadata": {},
     "output_type": "execute_result"
    },
    {
     "data": {
      "image/png": "[encoded data removed]",
      "text/plain": [
       "<matplotlib.figure.Figure at 0x126a389b0>"
      ]
     },
     "metadata": {},
     "output_type": "display_data"
    }
   ],
   "source": [
    "plt.imshow(x_train[0].reshape(28,28))"
   ]
  },
  {
   "cell_type": "code",
   "execution_count": 8,
   "metadata": {
    "scrolled": true
   },
   "outputs": [
    {
     "data": {
      "text/plain": [
       "<matplotlib.image.AxesImage at 0x13ff68940>"
      ]
     },
     "execution_count": 8,
     "metadata": {},
     "output_type": "execute_result"
    },
    {
     "data": {
      "image/png": "[encoded data removed]",
      "text/plain": [
       "<matplotlib.figure.Figure at 0x13fe79860>"
      ]
     },
     "metadata": {},
     "output_type": "display_data"
    }
   ],
   "source": [
    "plt.imshow(x_train_noise[0].reshape(28,28))"
   ]
  },
  {
   "cell_type": "code",
   "execution_count": 9,
   "metadata": {
    "scrolled": true
   },
   "outputs": [
    {
     "data": {
      "text/plain": [
       "<matplotlib.image.AxesImage at 0x140039c18>"
      ]
     },
     "execution_count": 9,
     "metadata": {},
     "output_type": "execute_result"
    },
    {
     "data": {
      "image/png": "[encoded data removed]",
      "text/plain": [
       "<matplotlib.figure.Figure at 0x13feee978>"
      ]
     },
     "metadata": {},
     "output_type": "display_data"
    }
   ],
   "source": [
    "plt.imshow(x_train_noise[1].reshape(28,28))"
   ]
  },
  {
   "cell_type": "markdown",
   "metadata": {},
   "source": [
    "#### Same as the MLNN,  the noise filter varies by image."
   ]
  },
  {
   "cell_type": "code",
   "execution_count": 10,
   "metadata": {
    "scrolled": false
   },
   "outputs": [
    {
     "name": "stdout",
     "output_type": "stream",
     "text": [
      "Train on 60000 samples, validate on 10000 samples\n",
      "Epoch 1/10\n",
      "60000/60000 [==============================] - 245s - loss: 0.3252 - acc: 0.9014 - val_loss: 0.0780 - val_acc: 0.9746\n",
      "Epoch 2/10\n",
      "60000/60000 [==============================] - 245s - loss: 0.1109 - acc: 0.9678 - val_loss: 0.0523 - val_acc: 0.9826\n",
      "Epoch 3/10\n",
      "60000/60000 [==============================] - 268s - loss: 0.0861 - acc: 0.9744 - val_loss: 0.0418 - val_acc: 0.9866\n",
      "Epoch 4/10\n",
      "60000/60000 [==============================] - 267s - loss: 0.0698 - acc: 0.9794 - val_loss: 0.0384 - val_acc: 0.9867\n",
      "Epoch 5/10\n",
      "60000/60000 [==============================] - 256s - loss: 0.0611 - acc: 0.9822 - val_loss: 0.0347 - val_acc: 0.9872\n",
      "Epoch 6/10\n",
      "60000/60000 [==============================] - 257s - loss: 0.0553 - acc: 0.9837 - val_loss: 0.0331 - val_acc: 0.9882\n",
      "Epoch 7/10\n",
      "60000/60000 [==============================] - 252s - loss: 0.0514 - acc: 0.9851 - val_loss: 0.0329 - val_acc: 0.9887\n",
      "Epoch 8/10\n",
      "60000/60000 [==============================] - 253s - loss: 0.0465 - acc: 0.9865 - val_loss: 0.0299 - val_acc: 0.9900\n",
      "Epoch 9/10\n",
      "60000/60000 [==============================] - 250s - loss: 0.0429 - acc: 0.9869 - val_loss: 0.0304 - val_acc: 0.9896\n",
      "Epoch 10/10\n",
      "60000/60000 [==============================] - 261s - loss: 0.0407 - acc: 0.9879 - val_loss: 0.0300 - val_acc: 0.9903\n",
      "Test loss: 0.0299754400584\n",
      "Test accuracy: 0.9903\n"
     ]
    }
   ],
   "source": [
    "# without noise\n",
    "\n",
    "batch_size = 128\n",
    "num_classes = 10\n",
    "epochs = 10\n",
    "\n",
    "# convert class vectors to binary class matrices\n",
    "y_train = keras.utils.to_categorical(y_train, num_classes)\n",
    "y_test = keras.utils.to_categorical(y_test, num_classes)\n",
    "\n",
    "model = Sequential()\n",
    "model.add(Conv2D(32, kernel_size=(3, 3),\n",
    "                 activation='relu',\n",
    "                 input_shape=input_shape))\n",
    "model.add(Conv2D(64, (3, 3), activation='relu'))\n",
    "model.add(MaxPooling2D(pool_size=(2, 2)))\n",
    "model.add(Dropout(0.25))\n",
    "model.add(Flatten())\n",
    "model.add(Dense(128, activation='relu'))\n",
    "model.add(Dropout(0.5))\n",
    "model.add(Dense(num_classes, activation='softmax'))\n",
    "\n",
    "model.compile(loss=keras.losses.categorical_crossentropy,\n",
    "              optimizer=keras.optimizers.Adadelta(),\n",
    "              metrics=['accuracy'])\n",
    "\n",
    "model.fit(x_train, y_train,\n",
    "          batch_size=batch_size,\n",
    "          epochs=epochs,\n",
    "          verbose=1,\n",
    "          validation_data=(x_test, y_test))\n",
    "score = model.evaluate(x_test, y_test, verbose=0)\n",
    "print('Test loss:', score[0])\n",
    "print('Test accuracy:', score[1])"
   ]
  },
  {
   "cell_type": "code",
   "execution_count": 15,
   "metadata": {},
   "outputs": [
    {
     "data": {
      "text/plain": [
       "[{'accuracy': 0.9545, 'loss': 0.173174991914, 'model': 'mlnn', 'noise': 'yes'},\n",
       " {'accuracy': 0.9802, 'loss': 0.10323239263, 'model': 'mlnn', 'noise': 'no'},\n",
       " {'accuracy': 0.9903, 'loss': 0.0299754400584, 'model': 'conv', 'noise': 'no'}]"
      ]
     },
     "execution_count": 15,
     "metadata": {},
     "output_type": "execute_result"
    }
   ],
   "source": [
    "scores.append({'model': 'conv', 'noise':'no','loss':0.0299754400584, 'accuracy': 0.9903})\n",
    "\n",
    "scores"
   ]
  },
  {
   "cell_type": "code",
   "execution_count": 11,
   "metadata": {
    "scrolled": true
   },
   "outputs": [
    {
     "name": "stdout",
     "output_type": "stream",
     "text": [
      "Train on 60000 samples, validate on 10000 samples\n",
      "Epoch 1/10\n",
      "60000/60000 [==============================] - 262s - loss: 0.4984 - acc: 0.8421 - val_loss: 0.1217 - val_acc: 0.9631\n",
      "Epoch 2/10\n",
      "60000/60000 [==============================] - 242s - loss: 0.1711 - acc: 0.9483 - val_loss: 0.0847 - val_acc: 0.9726\n",
      "Epoch 3/10\n",
      "60000/60000 [==============================] - 238s - loss: 0.1316 - acc: 0.9606 - val_loss: 0.0687 - val_acc: 0.9785\n",
      "Epoch 4/10\n",
      "60000/60000 [==============================] - 236s - loss: 0.1062 - acc: 0.9676 - val_loss: 0.0629 - val_acc: 0.9786\n",
      "Epoch 5/10\n",
      "60000/60000 [==============================] - 1033s - loss: 0.0942 - acc: 0.9712 - val_loss: 0.0578 - val_acc: 0.9808\n",
      "Epoch 6/10\n",
      "60000/60000 [==============================] - 233s - loss: 0.0851 - acc: 0.9742 - val_loss: 0.0593 - val_acc: 0.9806\n",
      "Epoch 7/10\n",
      "60000/60000 [==============================] - 237s - loss: 0.0767 - acc: 0.9771 - val_loss: 0.0520 - val_acc: 0.9833\n",
      "Epoch 8/10\n",
      "60000/60000 [==============================] - 474s - loss: 0.0691 - acc: 0.9786 - val_loss: 0.0493 - val_acc: 0.9837\n",
      "Epoch 9/10\n",
      "60000/60000 [==============================] - 235s - loss: 0.0638 - acc: 0.9802 - val_loss: 0.0512 - val_acc: 0.9831\n",
      "Epoch 10/10\n",
      "60000/60000 [==============================] - 236s - loss: 0.0586 - acc: 0.9821 - val_loss: 0.0481 - val_acc: 0.9836\n",
      "Test loss: 0.0480910581976\n",
      "Test accuracy: 0.9836\n"
     ]
    }
   ],
   "source": [
    "# with noise\n",
    "\n",
    "batch_size = 128\n",
    "num_classes = 10\n",
    "epochs = 10\n",
    "\n",
    "# # convert class vectors to binary class matrices\n",
    "# y_train = keras.utils.to_categorical(y_train, num_classes)\n",
    "# y_test = keras.utils.to_categorical(y_test, num_classes)\n",
    "\n",
    "model = Sequential()\n",
    "model.add(Conv2D(32, kernel_size=(3, 3),\n",
    "                 activation='relu',\n",
    "                 input_shape=input_shape))\n",
    "model.add(Conv2D(64, (3, 3), activation='relu'))\n",
    "model.add(MaxPooling2D(pool_size=(2, 2)))\n",
    "model.add(Dropout(0.25))\n",
    "model.add(Flatten())\n",
    "model.add(Dense(128, activation='relu'))\n",
    "model.add(Dropout(0.5))\n",
    "model.add(Dense(num_classes, activation='softmax'))\n",
    "\n",
    "model.compile(loss=keras.losses.categorical_crossentropy,\n",
    "              optimizer=keras.optimizers.Adadelta(),\n",
    "              metrics=['accuracy'])\n",
    "\n",
    "model.fit(x_train_noise, y_train,\n",
    "          batch_size=batch_size,\n",
    "          epochs=epochs,\n",
    "          verbose=1,\n",
    "          validation_data=(x_test_noise, y_test))\n",
    "score = model.evaluate(x_test_noise, y_test, verbose=0)\n",
    "print('Test loss:', score[0])\n",
    "print('Test accuracy:', score[1])"
   ]
  },
  {
   "cell_type": "code",
   "execution_count": 16,
   "metadata": {
    "scrolled": true
   },
   "outputs": [
    {
     "data": {
      "text/plain": [
       "[{'accuracy': 0.9545, 'loss': 0.173174991914, 'model': 'mlnn', 'noise': 'yes'},\n",
       " {'accuracy': 0.9802, 'loss': 0.10323239263, 'model': 'mlnn', 'noise': 'no'},\n",
       " {'accuracy': 0.9903, 'loss': 0.0299754400584, 'model': 'conv', 'noise': 'no'},\n",
       " {'accuracy': 0.9836,\n",
       "  'loss': 0.0480910581976,\n",
       "  'model': 'conv',\n",
       "  'noise': 'yes'}]"
      ]
     },
     "execution_count": 16,
     "metadata": {},
     "output_type": "execute_result"
    }
   ],
   "source": [
    "scores.append({'model': 'conv', 'noise':'yes','loss':0.0480910581976, 'accuracy': 0.9836})\n",
    "\n",
    "scores"
   ]
  },
  {
   "cell_type": "markdown",
   "metadata": {},
   "source": [
    "## 2. Compare the loss/accuracy (train, val) after N epochs for both MLNN and ConvNet with and without noise. "
   ]
  },
  {
   "cell_type": "code",
   "execution_count": 18,
   "metadata": {
    "scrolled": true
   },
   "outputs": [
    {
     "data": {
      "text/html": [
       "<div>\n",
       "<style>\n",
       "    .dataframe thead tr:only-child th {\n",
       "        text-align: right;\n",
       "    }\n",
       "\n",
       "    .dataframe thead th {\n",
       "        text-align: left;\n",
       "    }\n",
       "\n",
       "    .dataframe tbody tr th {\n",
       "        vertical-align: top;\n",
       "    }\n",
       "</style>\n",
       "<table border=\"1\" class=\"dataframe\">\n",
       "  <thead>\n",
       "    <tr style=\"text-align: right;\">\n",
       "      <th></th>\n",
       "      <th>accuracy</th>\n",
       "      <th>loss</th>\n",
       "      <th>model</th>\n",
       "      <th>noise</th>\n",
       "    </tr>\n",
       "  </thead>\n",
       "  <tbody>\n",
       "    <tr>\n",
       "      <th>0</th>\n",
       "      <td>0.9545</td>\n",
       "      <td>0.173175</td>\n",
       "      <td>mlnn</td>\n",
       "      <td>yes</td>\n",
       "    </tr>\n",
       "    <tr>\n",
       "      <th>1</th>\n",
       "      <td>0.9802</td>\n",
       "      <td>0.103232</td>\n",
       "      <td>mlnn</td>\n",
       "      <td>no</td>\n",
       "    </tr>\n",
       "    <tr>\n",
       "      <th>2</th>\n",
       "      <td>0.9903</td>\n",
       "      <td>0.029975</td>\n",
       "      <td>conv</td>\n",
       "      <td>no</td>\n",
       "    </tr>\n",
       "    <tr>\n",
       "      <th>3</th>\n",
       "      <td>0.9836</td>\n",
       "      <td>0.048091</td>\n",
       "      <td>conv</td>\n",
       "      <td>yes</td>\n",
       "    </tr>\n",
       "  </tbody>\n",
       "</table>\n",
       "</div>"
      ],
      "text/plain": [
       "   accuracy      loss model noise\n",
       "0    0.9545  0.173175  mlnn   yes\n",
       "1    0.9802  0.103232  mlnn    no\n",
       "2    0.9903  0.029975  conv    no\n",
       "3    0.9836  0.048091  conv   yes"
      ]
     },
     "execution_count": 18,
     "metadata": {},
     "output_type": "execute_result"
    }
   ],
   "source": [
    "scores = pd.DataFrame(scores)\n",
    "scores"
   ]
  },
  {
   "cell_type": "markdown",
   "metadata": {},
   "source": [
    "Both MLNN and Convnet performed better with less noise, as should be expected. The Convnet turned out to be more accurate the MLNN. However, the improvement was by 0.0034. Considering the amount of time and resources the ConvNet, and depending on the target being predicted, the MLNN network still performed quite well. "
   ]
  },
  {
   "cell_type": "markdown",
   "metadata": {
    "collapsed": true
   },
   "source": [
    "## 3. Vary the amount of noise (multiply `np.random.normal` by a factor) and keep track of the accuracy and loss (for training and validation) and plot these results."
   ]
  },
  {
   "cell_type": "code",
   "execution_count": 1,
   "metadata": {
    "scrolled": true
   },
   "outputs": [
    {
     "name": "stderr",
     "output_type": "stream",
     "text": [
      "Using TensorFlow backend.\n"
     ]
    }
   ],
   "source": [
    "import keras\n",
    "from keras.datasets import mnist\n",
    "from keras.models import Sequential\n",
    "from keras.optimizers import RMSprop\n",
    "from keras.layers import Dense, Dropout, Flatten\n",
    "from keras.layers import Conv2D, MaxPooling2D\n",
    "from keras import backend"
   ]
  },
  {
   "cell_type": "code",
   "execution_count": 2,
   "metadata": {
    "collapsed": true
   },
   "outputs": [],
   "source": [
    "import numpy as np\n",
    "import pandas as pd\n",
    "import matplotlib.pyplot as plt\n",
    "%matplotlib inline"
   ]
  },
  {
   "cell_type": "code",
   "execution_count": 3,
   "metadata": {
    "scrolled": false
   },
   "outputs": [
    {
     "name": "stdout",
     "output_type": "stream",
     "text": [
      "60000 train samples\n",
      "10000 test samples\n"
     ]
    }
   ],
   "source": [
    "# the data, shuffled and split between train and test sets\n",
    "(x_train, y_train), (x_test, y_test) = mnist.load_data()\n",
    "\n",
    "x_train = x_train.reshape(60000, 784)\n",
    "x_test = x_test.reshape(10000, 784)\n",
    "x_train = x_train.astype('float32')\n",
    "x_test = x_test.astype('float32')\n",
    "x_train /= 255\n",
    "x_test /= 255\n",
    "print(x_train.shape[0], 'train samples')\n",
    "print(x_test.shape[0], 'test samples')"
   ]
  },
  {
   "cell_type": "code",
   "execution_count": 4,
   "metadata": {
    "scrolled": false
   },
   "outputs": [
    {
     "name": "stdout",
     "output_type": "stream",
     "text": [
      "_________________________________________________________________\n",
      "Layer (type)                 Output Shape              Param #   \n",
      "=================================================================\n",
      "dense_1 (Dense)              (None, 512)               401920    \n",
      "_________________________________________________________________\n",
      "dropout_1 (Dropout)          (None, 512)               0         \n",
      "_________________________________________________________________\n",
      "dense_2 (Dense)              (None, 512)               262656    \n",
      "_________________________________________________________________\n",
      "dropout_2 (Dropout)          (None, 512)               0         \n",
      "_________________________________________________________________\n",
      "dense_3 (Dense)              (None, 10)                5130      \n",
      "=================================================================\n",
      "Total params: 669,706\n",
      "Trainable params: 669,706\n",
      "Non-trainable params: 0\n",
      "_________________________________________________________________\n",
      "Train on 60000 samples, validate on 10000 samples\n",
      "Epoch 1/10\n",
      "60000/60000 [==============================] - 12s - loss: 0.3424 - acc: 0.8913 - val_loss: 0.1705 - val_acc: 0.9488\n",
      "Epoch 2/10\n",
      "60000/60000 [==============================] - 13s - loss: 0.1436 - acc: 0.9564 - val_loss: 0.1407 - val_acc: 0.9598\n",
      "Epoch 3/10\n",
      "60000/60000 [==============================] - 14s - loss: 0.1046 - acc: 0.9673 - val_loss: 0.1009 - val_acc: 0.9684\n",
      "Epoch 4/10\n",
      "60000/60000 [==============================] - 13s - loss: 0.0861 - acc: 0.9741 - val_loss: 0.0879 - val_acc: 0.9768\n",
      "Epoch 5/10\n",
      "60000/60000 [==============================] - 19s - loss: 0.0730 - acc: 0.9778 - val_loss: 0.0919 - val_acc: 0.9751\n",
      "Epoch 6/10\n",
      "60000/60000 [==============================] - 14s - loss: 0.0649 - acc: 0.9798 - val_loss: 0.0987 - val_acc: 0.9736\n",
      "Epoch 7/10\n",
      "60000/60000 [==============================] - 14s - loss: 0.0598 - acc: 0.9826 - val_loss: 0.0902 - val_acc: 0.9767\n",
      "Epoch 8/10\n",
      "60000/60000 [==============================] - 12s - loss: 0.0539 - acc: 0.9839 - val_loss: 0.0975 - val_acc: 0.9784\n",
      "Epoch 9/10\n",
      "60000/60000 [==============================] - 13s - loss: 0.0547 - acc: 0.9842 - val_loss: 0.0846 - val_acc: 0.9809\n",
      "Epoch 10/10\n",
      "60000/60000 [==============================] - 12s - loss: 0.0489 - acc: 0.9861 - val_loss: 0.1127 - val_acc: 0.9771\n",
      "Noise: 0.2\n",
      "Test loss: 0.112680466037\n",
      "Test accuracy: 0.9771\n",
      "Train on 60000 samples, validate on 10000 samples\n",
      "Epoch 1/10\n",
      "60000/60000 [==============================] - 13s - loss: 0.1395 - acc: 0.9612 - val_loss: 0.0955 - val_acc: 0.9749\n",
      "Epoch 2/10\n",
      "60000/60000 [==============================] - 13s - loss: 0.1170 - acc: 0.9678 - val_loss: 0.1015 - val_acc: 0.9747\n",
      "Epoch 3/10\n",
      "60000/60000 [==============================] - 13s - loss: 0.1021 - acc: 0.9718 - val_loss: 0.1282 - val_acc: 0.9723\n",
      "Epoch 4/10\n",
      "60000/60000 [==============================] - 12s - loss: 0.0995 - acc: 0.9739 - val_loss: 0.0895 - val_acc: 0.9774\n",
      "Epoch 5/10\n",
      "60000/60000 [==============================] - 12s - loss: 0.0913 - acc: 0.9768 - val_loss: 0.1214 - val_acc: 0.9751\n",
      "Epoch 6/10\n",
      "60000/60000 [==============================] - 12s - loss: 0.0830 - acc: 0.9773 - val_loss: 0.1274 - val_acc: 0.9696\n",
      "Epoch 7/10\n",
      "60000/60000 [==============================] - 14s - loss: 0.0790 - acc: 0.9795 - val_loss: 0.1107 - val_acc: 0.9767\n",
      "Epoch 8/10\n",
      "60000/60000 [==============================] - 12s - loss: 0.0795 - acc: 0.9798 - val_loss: 0.1229 - val_acc: 0.9729\n",
      "Epoch 9/10\n",
      "60000/60000 [==============================] - 12s - loss: 0.0739 - acc: 0.9810 - val_loss: 0.1619 - val_acc: 0.9715\n",
      "Epoch 10/10\n",
      "60000/60000 [==============================] - 14s - loss: 0.0721 - acc: 0.9816 - val_loss: 0.1210 - val_acc: 0.9766\n",
      "Noise: 0.5\n",
      "Test loss: 0.121016399804\n",
      "Test accuracy: 0.9766\n",
      "Train on 60000 samples, validate on 10000 samples\n",
      "Epoch 1/10\n",
      "60000/60000 [==============================] - 15s - loss: 0.1999 - acc: 0.9495 - val_loss: 0.2057 - val_acc: 0.9525\n",
      "Epoch 2/10\n",
      "60000/60000 [==============================] - 12s - loss: 0.1737 - acc: 0.9549 - val_loss: 0.1304 - val_acc: 0.9660\n",
      "Epoch 3/10\n",
      "60000/60000 [==============================] - 11s - loss: 0.1585 - acc: 0.9588 - val_loss: 0.1143 - val_acc: 0.9716\n",
      "Epoch 4/10\n",
      "60000/60000 [==============================] - 11s - loss: 0.1462 - acc: 0.9626 - val_loss: 0.1195 - val_acc: 0.9708\n",
      "Epoch 5/10\n",
      "60000/60000 [==============================] - 12s - loss: 0.1418 - acc: 0.9639 - val_loss: 0.1346 - val_acc: 0.9696\n",
      "Epoch 6/10\n",
      "60000/60000 [==============================] - 12s - loss: 0.1323 - acc: 0.9655 - val_loss: 0.1644 - val_acc: 0.9652\n",
      "Epoch 7/10\n",
      "60000/60000 [==============================] - 11s - loss: 0.1209 - acc: 0.9693 - val_loss: 0.1674 - val_acc: 0.9604\n",
      "Epoch 8/10\n",
      "60000/60000 [==============================] - 11s - loss: 0.1253 - acc: 0.9695 - val_loss: 0.1785 - val_acc: 0.9567\n",
      "Epoch 9/10\n",
      "60000/60000 [==============================] - 12s - loss: 0.1140 - acc: 0.9716 - val_loss: 0.2013 - val_acc: 0.9603\n",
      "Epoch 10/10\n",
      "60000/60000 [==============================] - 11s - loss: 0.1069 - acc: 0.9738 - val_loss: 0.2054 - val_acc: 0.9629\n",
      "Noise: 0.8\n",
      "Test loss: 0.205391561486\n",
      "Test accuracy: 0.9629\n",
      "Train on 60000 samples, validate on 10000 samples\n",
      "Epoch 1/10\n",
      "60000/60000 [==============================] - 12s - loss: 0.4442 - acc: 0.8846 - val_loss: 0.2754 - val_acc: 0.9278\n",
      "Epoch 2/10\n",
      "60000/60000 [==============================] - 14s - loss: 0.3812 - acc: 0.8995 - val_loss: 0.2735 - val_acc: 0.9286\n",
      "Epoch 3/10\n",
      "60000/60000 [==============================] - 12s - loss: 0.3396 - acc: 0.9087 - val_loss: 0.2289 - val_acc: 0.9397\n",
      "Epoch 4/10\n",
      "60000/60000 [==============================] - 12s - loss: 0.3170 - acc: 0.9154 - val_loss: 0.2191 - val_acc: 0.9386\n",
      "Epoch 5/10\n",
      "60000/60000 [==============================] - 12s - loss: 0.2869 - acc: 0.9221 - val_loss: 0.2728 - val_acc: 0.9273\n",
      "Epoch 6/10\n",
      "60000/60000 [==============================] - 12s - loss: 0.2676 - acc: 0.9270 - val_loss: 0.2366 - val_acc: 0.9386\n",
      "Epoch 7/10\n",
      "60000/60000 [==============================] - 12s - loss: 0.2546 - acc: 0.9307 - val_loss: 0.2512 - val_acc: 0.9355\n",
      "Epoch 8/10\n",
      "60000/60000 [==============================] - 11s - loss: 0.2437 - acc: 0.9337 - val_loss: 0.6381 - val_acc: 0.8919\n",
      "Epoch 9/10\n",
      "60000/60000 [==============================] - 12s - loss: 0.2319 - acc: 0.9377 - val_loss: 0.2787 - val_acc: 0.9206\n",
      "Epoch 10/10\n",
      "60000/60000 [==============================] - 11s - loss: 0.2322 - acc: 0.9391 - val_loss: 0.2230 - val_acc: 0.9429\n",
      "Noise: 1.5\n",
      "Test loss: 0.22299507837\n",
      "Test accuracy: 0.9429\n",
      "Train on 60000 samples, validate on 10000 samples\n",
      "Epoch 1/10\n",
      "60000/60000 [==============================] - 12s - loss: 0.5457 - acc: 0.8520 - val_loss: 0.3711 - val_acc: 0.8941\n",
      "Epoch 2/10\n",
      "60000/60000 [==============================] - 13s - loss: 0.4864 - acc: 0.8645 - val_loss: 0.3192 - val_acc: 0.9052\n",
      "Epoch 3/10\n",
      "60000/60000 [==============================] - 12s - loss: 0.4454 - acc: 0.8753 - val_loss: 0.2936 - val_acc: 0.9105\n",
      "Epoch 4/10\n",
      "60000/60000 [==============================] - 12s - loss: 0.4161 - acc: 0.8831 - val_loss: 0.3474 - val_acc: 0.8932\n",
      "Epoch 5/10\n",
      "60000/60000 [==============================] - 12s - loss: 0.3941 - acc: 0.8886 - val_loss: 0.3250 - val_acc: 0.9064\n",
      "Epoch 6/10\n",
      "60000/60000 [==============================] - 13s - loss: 0.3697 - acc: 0.8938 - val_loss: 0.4196 - val_acc: 0.8978\n",
      "Epoch 7/10\n",
      "60000/60000 [==============================] - 13s - loss: 0.3478 - acc: 0.8999 - val_loss: 0.3331 - val_acc: 0.9115\n",
      "Epoch 8/10\n",
      "60000/60000 [==============================] - 12s - loss: 0.3385 - acc: 0.9036 - val_loss: 0.3594 - val_acc: 0.9025\n",
      "Epoch 9/10\n",
      "60000/60000 [==============================] - 12s - loss: 0.3274 - acc: 0.9071 - val_loss: 0.3513 - val_acc: 0.9073\n",
      "Epoch 10/10\n",
      "60000/60000 [==============================] - 12s - loss: 0.3140 - acc: 0.9090 - val_loss: 0.3329 - val_acc: 0.9105\n",
      "Noise: 2\n",
      "Test loss: 0.332902908393\n",
      "Test accuracy: 0.9105\n",
      "Train on 60000 samples, validate on 10000 samples\n",
      "Epoch 1/10\n",
      "60000/60000 [==============================] - 12s - loss: 0.8869 - acc: 0.7387 - val_loss: 0.7463 - val_acc: 0.7662\n",
      "Epoch 2/10\n",
      "60000/60000 [==============================] - 12s - loss: 0.7962 - acc: 0.7611 - val_loss: 0.6885 - val_acc: 0.7788\n",
      "Epoch 3/10\n",
      "60000/60000 [==============================] - 11s - loss: 0.7315 - acc: 0.7774 - val_loss: 0.5807 - val_acc: 0.8118\n",
      "Epoch 4/10\n",
      "60000/60000 [==============================] - 11s - loss: 0.6965 - acc: 0.7892 - val_loss: 0.5853 - val_acc: 0.8170\n",
      "Epoch 5/10\n",
      "60000/60000 [==============================] - 12s - loss: 0.6648 - acc: 0.7961 - val_loss: 0.5781 - val_acc: 0.8226\n",
      "Epoch 6/10\n",
      "60000/60000 [==============================] - 11s - loss: 0.6347 - acc: 0.8062 - val_loss: 0.5896 - val_acc: 0.8184\n",
      "Epoch 7/10\n",
      "60000/60000 [==============================] - 11s - loss: 0.6094 - acc: 0.8126 - val_loss: 0.5643 - val_acc: 0.8269\n",
      "Epoch 8/10\n",
      "60000/60000 [==============================] - 11s - loss: 0.5853 - acc: 0.8190 - val_loss: 0.5582 - val_acc: 0.8342\n",
      "Epoch 9/10\n",
      "60000/60000 [==============================] - 12s - loss: 0.5732 - acc: 0.8236 - val_loss: 0.5446 - val_acc: 0.8405\n",
      "Epoch 10/10\n",
      "60000/60000 [==============================] - 12s - loss: 0.5447 - acc: 0.8340 - val_loss: 0.8538 - val_acc: 0.7945\n",
      "Noise: 3\n",
      "Test loss: 0.853796932912\n",
      "Test accuracy: 0.7945\n",
      "Train on 60000 samples, validate on 10000 samples\n",
      "Epoch 1/10\n",
      "60000/60000 [==============================] - 13s - loss: 1.4900 - acc: 0.5282 - val_loss: 1.2998 - val_acc: 0.5794\n",
      "Epoch 2/10\n",
      "60000/60000 [==============================] - 12s - loss: 1.3732 - acc: 0.5610 - val_loss: 1.1025 - val_acc: 0.6434\n",
      "Epoch 3/10\n",
      "60000/60000 [==============================] - 12s - loss: 1.3247 - acc: 0.5781 - val_loss: 1.1543 - val_acc: 0.6141\n",
      "Epoch 4/10\n",
      "60000/60000 [==============================] - 12s - loss: 1.2778 - acc: 0.5868 - val_loss: 1.1933 - val_acc: 0.6187\n",
      "Epoch 5/10\n",
      "60000/60000 [==============================] - 12s - loss: 1.2429 - acc: 0.6032 - val_loss: 1.1973 - val_acc: 0.6076\n",
      "Epoch 6/10\n",
      "60000/60000 [==============================] - 12s - loss: 1.2194 - acc: 0.6086 - val_loss: 1.2426 - val_acc: 0.6002\n",
      "Epoch 7/10\n",
      "60000/60000 [==============================] - 12s - loss: 1.1928 - acc: 0.6184 - val_loss: 1.1081 - val_acc: 0.6266\n",
      "Epoch 8/10\n",
      "60000/60000 [==============================] - 12s - loss: 1.1747 - acc: 0.6243 - val_loss: 1.1491 - val_acc: 0.6303\n",
      "Epoch 9/10\n",
      "60000/60000 [==============================] - 12s - loss: 1.1454 - acc: 0.6337 - val_loss: 1.1611 - val_acc: 0.6252\n",
      "Epoch 10/10\n",
      "60000/60000 [==============================] - 12s - loss: 1.1322 - acc: 0.6365 - val_loss: 1.0676 - val_acc: 0.6555\n",
      "Noise: 5\n",
      "Test loss: 1.06755225277\n",
      "Test accuracy: 0.6555\n"
     ]
    }
   ],
   "source": [
    "noises = [0.2, 0.5,0.8, 1.5, 2, 3, 5]\n",
    "noise_scores = []\n",
    "\n",
    "    \n",
    "# with noise\n",
    "\n",
    "batch_size = 128\n",
    "num_classes = 10\n",
    "epochs = 10\n",
    "\n",
    "# convert class vectors to binary class matrices\n",
    "y_train = keras.utils.to_categorical(y_train, num_classes)\n",
    "y_test = keras.utils.to_categorical(y_test, num_classes)\n",
    "\n",
    "x_train_noise = x_train + np.random.rand(*x_train.shape)\n",
    "x_test_noise = x_test + np.random.rand(*x_test.shape)\n",
    "# convert class vectors to binary class matrices\n",
    "\n",
    "\n",
    "model = Sequential()\n",
    "model.add(Dense(512, activation='relu', input_shape=(784,)))\n",
    "model.add(Dropout(0.2))\n",
    "model.add(Dense(512, activation='relu'))\n",
    "model.add(Dropout(0.2))\n",
    "model.add(Dense(10, activation='softmax'))\n",
    "\n",
    "model.summary()\n",
    "\n",
    "model.compile(loss='categorical_crossentropy',\n",
    "              optimizer=RMSprop(),\n",
    "              metrics=['accuracy'])\n",
    "\n",
    "\n",
    "\n",
    "for noise in noises:   \n",
    "\n",
    "    x_train_noise = x_train_noise = x_train + noise*np.random.rand(*x_train.shape)\n",
    "    x_test_noise = x_test + noise*np.random.rand(*x_test.shape)\n",
    "    \n",
    "    history = model.fit(x_train_noise, y_train,\n",
    "                        batch_size=batch_size,\n",
    "                        epochs=epochs,\n",
    "                        verbose=1,\n",
    "                        validation_data=(x_test_noise, y_test))\n",
    "    score = model.evaluate(x_test_noise, y_test, verbose=0)\n",
    "    print('Noise:', noise)\n",
    "    print('Test loss:', score[0])\n",
    "    print('Test accuracy:', score[1])\n",
    "    noise_scores.append({'Noise': noise, 'Test loss': score[0], 'Test accuracy': score[1]})\n",
    "    \n",
    "#     noise_scores.append({'Noise': noise, 'Test accuracy:', score[1]})\n"
   ]
  },
  {
   "cell_type": "code",
   "execution_count": 7,
   "metadata": {
    "scrolled": true
   },
   "outputs": [
    {
     "data": {
      "text/html": [
       "<div>\n",
       "<style>\n",
       "    .dataframe thead tr:only-child th {\n",
       "        text-align: right;\n",
       "    }\n",
       "\n",
       "    .dataframe thead th {\n",
       "        text-align: left;\n",
       "    }\n",
       "\n",
       "    .dataframe tbody tr th {\n",
       "        vertical-align: top;\n",
       "    }\n",
       "</style>\n",
       "<table border=\"1\" class=\"dataframe\">\n",
       "  <thead>\n",
       "    <tr style=\"text-align: right;\">\n",
       "      <th></th>\n",
       "      <th>Noise</th>\n",
       "      <th>Test accuracy</th>\n",
       "      <th>Test loss</th>\n",
       "    </tr>\n",
       "  </thead>\n",
       "  <tbody>\n",
       "    <tr>\n",
       "      <th>0</th>\n",
       "      <td>0.2</td>\n",
       "      <td>0.9771</td>\n",
       "      <td>0.112680</td>\n",
       "    </tr>\n",
       "    <tr>\n",
       "      <th>1</th>\n",
       "      <td>0.5</td>\n",
       "      <td>0.9766</td>\n",
       "      <td>0.121016</td>\n",
       "    </tr>\n",
       "    <tr>\n",
       "      <th>2</th>\n",
       "      <td>0.8</td>\n",
       "      <td>0.9629</td>\n",
       "      <td>0.205392</td>\n",
       "    </tr>\n",
       "    <tr>\n",
       "      <th>3</th>\n",
       "      <td>1.5</td>\n",
       "      <td>0.9429</td>\n",
       "      <td>0.222995</td>\n",
       "    </tr>\n",
       "    <tr>\n",
       "      <th>4</th>\n",
       "      <td>2.0</td>\n",
       "      <td>0.9105</td>\n",
       "      <td>0.332903</td>\n",
       "    </tr>\n",
       "    <tr>\n",
       "      <th>5</th>\n",
       "      <td>3.0</td>\n",
       "      <td>0.7945</td>\n",
       "      <td>0.853797</td>\n",
       "    </tr>\n",
       "    <tr>\n",
       "      <th>6</th>\n",
       "      <td>5.0</td>\n",
       "      <td>0.6555</td>\n",
       "      <td>1.067552</td>\n",
       "    </tr>\n",
       "  </tbody>\n",
       "</table>\n",
       "</div>"
      ],
      "text/plain": [
       "   Noise  Test accuracy  Test loss\n",
       "0    0.2         0.9771   0.112680\n",
       "1    0.5         0.9766   0.121016\n",
       "2    0.8         0.9629   0.205392\n",
       "3    1.5         0.9429   0.222995\n",
       "4    2.0         0.9105   0.332903\n",
       "5    3.0         0.7945   0.853797\n",
       "6    5.0         0.6555   1.067552"
      ]
     },
     "execution_count": 7,
     "metadata": {},
     "output_type": "execute_result"
    }
   ],
   "source": [
    "noise_scores = pd.DataFrame(noise_scores)\n",
    "noise_scores"
   ]
  },
  {
   "cell_type": "code",
   "execution_count": 11,
   "metadata": {
    "scrolled": true
   },
   "outputs": [
    {
     "data": {
      "text/plain": [
       "[<matplotlib.lines.Line2D at 0x12f53ab70>]"
      ]
     },
     "execution_count": 11,
     "metadata": {},
     "output_type": "execute_result"
    },
    {
     "data": {
      "image/png": "[encoded data removed]",
      "text/plain": [
       "<matplotlib.figure.Figure at 0x12ea40668>"
      ]
     },
     "metadata": {},
     "output_type": "display_data"
    }
   ],
   "source": [
    "plt.plot(noise_scores['Noise'], noise_scores['Test accuracy'])"
   ]
  },
  {
   "cell_type": "markdown",
   "metadata": {
    "collapsed": true
   },
   "source": [
    "As can be expected, as the factor of noise increases, the test accuracy decreases. "
   ]
  }
 ],
 "metadata": {
  "kernelspec": {
   "display_name": "Python [default]",
   "language": "python",
   "name": "python3"
  },
  "language_info": {
   "codemirror_mode": {
    "name": "ipython",
    "version": 3
   },
   "file_extension": ".py",
   "mimetype": "text/x-python",
   "name": "python",
   "nbconvert_exporter": "python",
   "pygments_lexer": "ipython3",
   "version": "3.6.1"
  }
 },
 "nbformat": 4,
 "nbformat_minor": 2
}

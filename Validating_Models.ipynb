{
 "cells": [
  {
   "cell_type": "code",
   "execution_count": 4,
   "metadata": {
    "collapsed": true
   },
   "outputs": [],
   "source": [
    "from sklearn.linear_model import LinearRegression\n",
    "import numpy as np\n",
    "import matplotlib.pylab as plt\n",
    "%matplotlib inline\n",
    "from sklearn import linear_model"
   ]
  },
  {
   "cell_type": "code",
   "execution_count": 54,
   "metadata": {
    "scrolled": true
   },
   "outputs": [
    {
     "data": {
      "text/plain": [
       "(array([ 0.99516475]), 0.0039075222081016436)"
      ]
     },
     "execution_count": 54,
     "metadata": {},
     "output_type": "execute_result"
    }
   ],
   "source": [
    "n = 10000\n",
    "x = np.linspace(0.01, 1, n).reshape(-1, 1)\n",
    "y = np.linspace(0.01, 1, n)  + np.random.rand(n) - .5\n",
    "\n",
    "# Initial regression\n",
    "model = LinearRegression()\n",
    "model.fit(x, y)\n",
    "model.coef_, model.intercept_"
   ]
  },
  {
   "cell_type": "markdown",
   "metadata": {},
   "source": [
    "# Assignment 5"
   ]
  },
  {
   "cell_type": "markdown",
   "metadata": {},
   "source": [
    "## 1. Create and fit a Linear Regression Model\n",
    "## Calculate the Training error and Testing error using sklearn with a .50 split \n",
    "For error, use `mean_squared`, but if you want to experiment with other mean errors, please do!"
   ]
  },
  {
   "cell_type": "code",
   "execution_count": 5,
   "metadata": {
    "collapsed": true
   },
   "outputs": [],
   "source": [
    "from sklearn.model_selection import train_test_split\n",
    "from sklearn.metrics import mean_squared_error"
   ]
  },
  {
   "cell_type": "code",
   "execution_count": 9,
   "metadata": {
    "scrolled": true
   },
   "outputs": [
    {
     "data": {
      "text/plain": [
       "(array([[ 0.90950495],\n",
       "        [ 0.72039604],\n",
       "        [ 0.88871287],\n",
       "        ..., \n",
       "        [ 0.17118812],\n",
       "        [ 0.3250495 ],\n",
       "        [ 0.38811881]]),\n",
       " array([ 0.92759901,  0.54963051,  1.27353598, ...,  0.40475791,\n",
       "         0.13950282, -0.04057883]))"
      ]
     },
     "execution_count": 9,
     "metadata": {},
     "output_type": "execute_result"
    }
   ],
   "source": [
    "x_train, x_test, y_train, y_test = train_test_split(x, y, test_size=.5)\n",
    "x_train, y_train"
   ]
  },
  {
   "cell_type": "code",
   "execution_count": 10,
   "metadata": {},
   "outputs": [
    {
     "data": {
      "text/plain": [
       "((5000, 1), (5000,))"
      ]
     },
     "execution_count": 10,
     "metadata": {},
     "output_type": "execute_result"
    }
   ],
   "source": [
    "x_train.shape, y_train.shape"
   ]
  },
  {
   "cell_type": "code",
   "execution_count": 25,
   "metadata": {},
   "outputs": [
    {
     "data": {
      "text/plain": [
       "(array([ 1.01088711]), -0.0093269828910375607)"
      ]
     },
     "execution_count": 25,
     "metadata": {},
     "output_type": "execute_result"
    }
   ],
   "source": [
    "# Regression with training set\n",
    "model = LinearRegression()\n",
    "model.fit(x_train, y_train)\n",
    "model.coef_, model.intercept_"
   ]
  },
  {
   "cell_type": "code",
   "execution_count": 26,
   "metadata": {},
   "outputs": [
    {
     "data": {
      "text/plain": [
       "[<matplotlib.lines.Line2D at 0x1168d9b00>]"
      ]
     },
     "execution_count": 26,
     "metadata": {},
     "output_type": "execute_result"
    },
    {
     "data": {
      "image/png": "[encoded data removed]",
      "text/plain": [
       "<matplotlib.figure.Figure at 0x1168d97b8>"
      ]
     },
     "metadata": {},
     "output_type": "display_data"
    }
   ],
   "source": [
    "# plot\n",
    "plt.scatter(x_train,y_train)\n",
    "plt.plot(x_train, np.dot(x_train, model.coef_) + model.intercept_, color='red')"
   ]
  },
  {
   "cell_type": "code",
   "execution_count": 17,
   "metadata": {},
   "outputs": [
    {
     "data": {
      "text/plain": [
       "(0.081344527744474024, 0.083403235716328253, -0.0020587079718542289)"
      ]
     },
     "execution_count": 17,
     "metadata": {},
     "output_type": "execute_result"
    }
   ],
   "source": [
    "# Mean Squared Error\n",
    "error_train = mean_squared_error(y_train, np.dot(x_train, model.coef_) + model.intercept_)\n",
    "error_test = mean_squared_error(y_test, np.dot(x_test, model.coef_) + model.intercept_)\n",
    "\n",
    "error_test, error_train, (error_test - error_train)"
   ]
  },
  {
   "cell_type": "markdown",
   "metadata": {},
   "source": [
    "## 2.  Repeat #1 for a Ridge Regression"
   ]
  },
  {
   "cell_type": "code",
   "execution_count": 21,
   "metadata": {
    "collapsed": true
   },
   "outputs": [],
   "source": [
    "from sklearn.linear_model import Ridge"
   ]
  },
  {
   "cell_type": "code",
   "execution_count": 20,
   "metadata": {},
   "outputs": [
    {
     "data": {
      "text/plain": [
       "(array([ 1.00387297]), -0.011437404267510276)"
      ]
     },
     "execution_count": 20,
     "metadata": {},
     "output_type": "execute_result"
    }
   ],
   "source": [
    "model = Ridge()\n",
    "model.fit(x_train, y_train)\n",
    "model.coef_, model.intercept_"
   ]
  },
  {
   "cell_type": "code",
   "execution_count": 21,
   "metadata": {},
   "outputs": [
    {
     "data": {
      "text/plain": [
       "[<matplotlib.lines.Line2D at 0x11636e390>]"
      ]
     },
     "execution_count": 21,
     "metadata": {},
     "output_type": "execute_result"
    },
    {
     "data": {
      "image/png": "[encoded data removed]",
      "text/plain": [
       "<matplotlib.figure.Figure at 0x1167455c0>"
      ]
     },
     "metadata": {},
     "output_type": "display_data"
    }
   ],
   "source": [
    "plt.scatter(x_train,y_train)\n",
    "plt.plot(x_train, np.dot(x_train, model.coef_) + model.intercept_, color='red')"
   ]
  },
  {
   "cell_type": "code",
   "execution_count": 22,
   "metadata": {
    "scrolled": true
   },
   "outputs": [
    {
     "data": {
      "text/plain": [
       "(0.081342655545708367, 0.083403732820869575, -0.0020610772751612078)"
      ]
     },
     "execution_count": 22,
     "metadata": {},
     "output_type": "execute_result"
    }
   ],
   "source": [
    "error_test = mean_squared_error(y_test, np.dot(x_test, model.coef_) + model.intercept_)\n",
    "error_train = mean_squared_error(y_train, np.dot(x_train, model.coef_) + model.intercept_)\n",
    "\n",
    "error_test, error_train, (error_test - error_train)"
   ]
  },
  {
   "cell_type": "markdown",
   "metadata": {},
   "source": [
    "## 3. Vary the `split` size from .01 to .99 with at least 10 values (the more the merrier!). Plot the resulting Training error and Testing error vs. `split` size. Create separate plots for Linear and Ridge"
   ]
  },
  {
   "cell_type": "code",
   "execution_count": 22,
   "metadata": {
    "collapsed": true
   },
   "outputs": [],
   "source": [
    "from sklearn.linear_model import Ridge\n",
    "from sklearn.model_selection import train_test_split\n",
    "from sklearn.metrics import mean_squared_error"
   ]
  },
  {
   "cell_type": "code",
   "execution_count": 45,
   "metadata": {},
   "outputs": [
    {
     "data": {
      "text/plain": [
       "array([ 0.01      ,  0.11888889,  0.22777778,  0.33666667,  0.44555556,\n",
       "        0.55444444,  0.66333333,  0.77222222,  0.88111111,  0.99      ])"
      ]
     },
     "execution_count": 45,
     "metadata": {},
     "output_type": "execute_result"
    }
   ],
   "source": [
    "np.linspace(0.01, 0.99, 10)"
   ]
  },
  {
   "cell_type": "code",
   "execution_count": 43,
   "metadata": {},
   "outputs": [
    {
     "data": {
      "image/png": "[encoded data removed]",
      "text/plain": [
       "<matplotlib.figure.Figure at 0x121079940>"
      ]
     },
     "metadata": {},
     "output_type": "display_data"
    },
    {
     "data": {
      "image/png": "[encoded data removed]",
      "text/plain": [
       "<matplotlib.figure.Figure at 0x121079898>"
      ]
     },
     "metadata": {},
     "output_type": "display_data"
    },
    {
     "data": {
      "image/png": "[encoded data removed]",
      "text/plain": [
       "<matplotlib.figure.Figure at 0x1210835f8>"
      ]
     },
     "metadata": {},
     "output_type": "display_data"
    },
    {
     "data": {
      "image/png": "[encoded data removed]",
      "text/plain": [
       "<matplotlib.figure.Figure at 0x120a63c88>"
      ]
     },
     "metadata": {},
     "output_type": "display_data"
    }
   ],
   "source": [
    "# loop over all splits\n",
    "splits = np.linspace(0.01, 0.99, 50)\n",
    "data = []\n",
    "for split in splits:\n",
    "    x_train, x_test, y_train, y_test = train_test_split(x, y, test_size=split)\n",
    "    x_train = x_train.reshape(-1,1)\n",
    "    x_test = x_test.reshape(-1,1)\n",
    "    \n",
    "    model_l = LinearRegression()\n",
    "    model_l.fit(x_train, y_train)\n",
    "    model_l.coef_, model_l.intercept_\n",
    "    # ridge \n",
    "    model_r = Ridge()\n",
    "    model_r.fit(x_train, y_train)\n",
    "    model_r.coef_, model_r.intercept_\n",
    "    # MSE linear\n",
    "    error_test_l = mean_squared_error(y_test, np.dot(x_test, model_l.coef_) + model_l.intercept_)\n",
    "    error_train_l = mean_squared_error(y_train, np.dot(x_train, model_l.coef_) + model_l.intercept_)\n",
    "\n",
    "    error_test_l, error_train_l, (error_test_l - error_train_l)\n",
    "    # MSE ridge\n",
    "    error_test_r = mean_squared_error(y_test, np.dot(x_test, model_r.coef_) + model_r.intercept_)\n",
    "    error_train_r = mean_squared_error(y_train, np.dot(x_train, model_r.coef_) + model_r.intercept_)\n",
    "\n",
    "#     error_test_r, error_train_r, (error_test_r - error_train_r)\n",
    "    \n",
    "    \n",
    "    data.append({\n",
    "        'split':split,\n",
    "        'error_test_l':error_test_l,\n",
    "        'error_test_r':error_test_r,\n",
    "        'error_train_l': error_train_l,\n",
    "        'error_train_r': error_train_r})\n",
    "\n",
    "data = pd.DataFrame(data)\n",
    "data.head()\n",
    "   \n",
    "tags = [\n",
    "    'error_test_r',\n",
    "    'error_test_l',\n",
    "    'error_train_l',\n",
    "    'error_train_r'\n",
    "]\n",
    "for tag in tags:\n",
    "    data.plot('split', tag, kind='scatter')\n"
   ]
  },
  {
   "cell_type": "markdown",
   "metadata": {},
   "source": [
    "# Summary\n",
    "\n",
    "The above plots display the MSE of both the linear and ridge regressions with 50 bins. The execution was grouped into a for loop for simplicity, but broken out into each individual split for 10 selected splits below. For the training sets, error appears to become more volatile as the split size increases. Conversely, for the testing sets became less volatile approaching 1. "
   ]
  },
  {
   "cell_type": "markdown",
   "metadata": {},
   "source": [
    "# 1. Split = 0.25"
   ]
  },
  {
   "cell_type": "code",
   "execution_count": 79,
   "metadata": {
    "collapsed": true
   },
   "outputs": [],
   "source": [
    "# 1 split = .25\n",
    "x_train, x_test, y_train, y_test = train_test_split(x, y, test_size=.25)"
   ]
  },
  {
   "cell_type": "code",
   "execution_count": 80,
   "metadata": {},
   "outputs": [
    {
     "data": {
      "text/plain": [
       "(array([ 1.00291161]), -0.0045002088556785891)"
      ]
     },
     "execution_count": 80,
     "metadata": {},
     "output_type": "execute_result"
    }
   ],
   "source": [
    "# linear\n",
    "model_l = LinearRegression()\n",
    "model_l.fit(x_train, y_train)\n",
    "model_l.coef_, model_l.intercept_"
   ]
  },
  {
   "cell_type": "code",
   "execution_count": 81,
   "metadata": {},
   "outputs": [
    {
     "data": {
      "text/plain": [
       "(array([ 1.00127463]), -0.0036723402651291925)"
      ]
     },
     "execution_count": 81,
     "metadata": {},
     "output_type": "execute_result"
    }
   ],
   "source": [
    "# ridge \n",
    "model_r = Ridge()\n",
    "model_r.fit(x_train, y_train)\n",
    "model_r.coef_, model_r.intercept_"
   ]
  },
  {
   "cell_type": "code",
   "execution_count": 82,
   "metadata": {},
   "outputs": [
    {
     "data": {
      "text/plain": [
       "[<matplotlib.lines.Line2D at 0x117be4cc0>]"
      ]
     },
     "execution_count": 82,
     "metadata": {},
     "output_type": "execute_result"
    },
    {
     "data": {
      "image/png": "[encoded data removed]",
      "text/plain": [
       "<matplotlib.figure.Figure at 0x117a7fd68>"
      ]
     },
     "metadata": {},
     "output_type": "display_data"
    }
   ],
   "source": [
    "# plot linear vs ridge\n",
    "plt.scatter(x_train,y_train)\n",
    "plt.plot(x_train, np.dot(x_train, model_r.coef_) + model_r.intercept_, color='red')\n",
    "plt.plot(x_train, np.dot(x_train, model_l.coef_) + model_l.intercept_, color='green')"
   ]
  },
  {
   "cell_type": "code",
   "execution_count": 83,
   "metadata": {
    "scrolled": true
   },
   "outputs": [
    {
     "data": {
      "text/plain": [
       "(0.08345549606083473, 0.081950477698681662, 0.0015050183621530683)"
      ]
     },
     "execution_count": 83,
     "metadata": {},
     "output_type": "execute_result"
    }
   ],
   "source": [
    "# MSE linear\n",
    "error_test_l = mean_squared_error(y_test, np.dot(x_test, model_l.coef_) + model_l.intercept_)\n",
    "error_train_l = mean_squared_error(y_train, np.dot(x_train, model_l.coef_) + model_l.intercept_)\n",
    "\n",
    "error_test_l, error_train_l, (error_test_l - error_train_l)"
   ]
  },
  {
   "cell_type": "code",
   "execution_count": 84,
   "metadata": {},
   "outputs": [
    {
     "data": {
      "text/plain": [
       "(0.083456284838548014, 0.081950696241242085, 0.0015055885973059291)"
      ]
     },
     "execution_count": 84,
     "metadata": {},
     "output_type": "execute_result"
    }
   ],
   "source": [
    "# MSE ridge\n",
    "error_test_r = mean_squared_error(y_test, np.dot(x_test, model_r.coef_) + model_r.intercept_)\n",
    "error_train_r = mean_squared_error(y_train, np.dot(x_train, model_r.coef_) + model_r.intercept_)\n",
    "\n",
    "error_test_r, error_train_r, (error_test_r - error_train_r)"
   ]
  },
  {
   "cell_type": "markdown",
   "metadata": {},
   "source": [
    "# 2. Split = 0.30"
   ]
  },
  {
   "cell_type": "code",
   "execution_count": 85,
   "metadata": {
    "collapsed": true
   },
   "outputs": [],
   "source": [
    "# split = .30\n",
    "x_train, x_test, y_train, y_test = train_test_split(x, y, test_size=.3)"
   ]
  },
  {
   "cell_type": "code",
   "execution_count": 86,
   "metadata": {},
   "outputs": [
    {
     "data": {
      "text/plain": [
       "(array([ 1.00258162]), -0.0054552315494936776)"
      ]
     },
     "execution_count": 86,
     "metadata": {},
     "output_type": "execute_result"
    }
   ],
   "source": [
    "# linear\n",
    "model_l = LinearRegression()\n",
    "model_l.fit(x_train, y_train)\n",
    "model_l.coef_, model_l.intercept_"
   ]
  },
  {
   "cell_type": "code",
   "execution_count": 87,
   "metadata": {},
   "outputs": [
    {
     "data": {
      "text/plain": [
       "(array([ 1.0008422]), -0.0045762078712859866)"
      ]
     },
     "execution_count": 87,
     "metadata": {},
     "output_type": "execute_result"
    }
   ],
   "source": [
    "# ridge \n",
    "\n",
    "model_r = Ridge()\n",
    "model_r.fit(x_train, y_train)\n",
    "model_r.coef_, model_r.intercept_"
   ]
  },
  {
   "cell_type": "code",
   "execution_count": 88,
   "metadata": {
    "scrolled": true
   },
   "outputs": [
    {
     "data": {
      "text/plain": [
       "[<matplotlib.lines.Line2D at 0x117df4c50>]"
      ]
     },
     "execution_count": 88,
     "metadata": {},
     "output_type": "execute_result"
    },
    {
     "data": {
      "image/png": "[encoded data removed]",
      "text/plain": [
       "<matplotlib.figure.Figure at 0x117a8fe80>"
      ]
     },
     "metadata": {},
     "output_type": "display_data"
    }
   ],
   "source": [
    "# plot linear vs ridge\n",
    "plt.scatter(x_train,y_train)\n",
    "plt.plot(x_train, np.dot(x_train, model_r.coef_) + model_r.intercept_, color='red')\n",
    "plt.plot(x_train, np.dot(x_train, model_l.coef_) + model_l.intercept_, color='green')"
   ]
  },
  {
   "cell_type": "code",
   "execution_count": 89,
   "metadata": {
    "scrolled": true
   },
   "outputs": [
    {
     "data": {
      "text/plain": [
       "(0.081082554410062568, 0.082863006191233254, -0.001780451781170686)"
      ]
     },
     "execution_count": 89,
     "metadata": {},
     "output_type": "execute_result"
    }
   ],
   "source": [
    "# MSE linear\n",
    "error_test_l = mean_squared_error(y_test, np.dot(x_test, model_l.coef_) + model_l.intercept_)\n",
    "error_train_l = mean_squared_error(y_train, np.dot(x_train, model_l.coef_) + model_l.intercept_)\n",
    "\n",
    "error_test_l, error_train_l, (error_test_l - error_train_l)"
   ]
  },
  {
   "cell_type": "code",
   "execution_count": 90,
   "metadata": {},
   "outputs": [
    {
     "data": {
      "text/plain": [
       "(0.081083611201055603, 0.082863254887928992, -0.0017796436868733889)"
      ]
     },
     "execution_count": 90,
     "metadata": {},
     "output_type": "execute_result"
    }
   ],
   "source": [
    "# MSE ridge\n",
    "error_test_r = mean_squared_error(y_test, np.dot(x_test, model_r.coef_) + model_r.intercept_)\n",
    "error_train_r = mean_squared_error(y_train, np.dot(x_train, model_r.coef_) + model_r.intercept_)\n",
    "\n",
    "error_test_r, error_train_r, (error_test_r - error_train_r)"
   ]
  },
  {
   "cell_type": "markdown",
   "metadata": {},
   "source": [
    "# 3 split = 0.35"
   ]
  },
  {
   "cell_type": "code",
   "execution_count": 91,
   "metadata": {
    "collapsed": true
   },
   "outputs": [],
   "source": [
    "# plit = .35\n",
    "x_train, x_test, y_train, y_test = train_test_split(x, y, test_size=.35)"
   ]
  },
  {
   "cell_type": "code",
   "execution_count": 92,
   "metadata": {},
   "outputs": [
    {
     "data": {
      "text/plain": [
       "(array([ 1.01497895]), -0.015962554482942481)"
      ]
     },
     "execution_count": 92,
     "metadata": {},
     "output_type": "execute_result"
    }
   ],
   "source": [
    "# linear\n",
    "model_l = LinearRegression()\n",
    "model_l.fit(x_train, y_train)\n",
    "model_l.coef_, model_l.intercept_"
   ]
  },
  {
   "cell_type": "code",
   "execution_count": 93,
   "metadata": {},
   "outputs": [
    {
     "data": {
      "text/plain": [
       "(array([ 1.01307587]), -0.015005691357185102)"
      ]
     },
     "execution_count": 93,
     "metadata": {},
     "output_type": "execute_result"
    }
   ],
   "source": [
    "# ridge \n",
    "\n",
    "model_r = Ridge()\n",
    "model_r.fit(x_train, y_train)\n",
    "model_r.coef_, model_r.intercept_"
   ]
  },
  {
   "cell_type": "code",
   "execution_count": 94,
   "metadata": {
    "scrolled": true
   },
   "outputs": [
    {
     "data": {
      "text/plain": [
       "[<matplotlib.lines.Line2D at 0x11806eef0>]"
      ]
     },
     "execution_count": 94,
     "metadata": {},
     "output_type": "execute_result"
    },
    {
     "data": {
      "image/png": "[encoded data removed]",
      "text/plain": [
       "<matplotlib.figure.Figure at 0x117e23c88>"
      ]
     },
     "metadata": {},
     "output_type": "display_data"
    }
   ],
   "source": [
    "# plot linear vs ridge\n",
    "plt.scatter(x_train,y_train)\n",
    "plt.plot(x_train, np.dot(x_train, model_r.coef_) + model_r.intercept_, color='red')\n",
    "plt.plot(x_train, np.dot(x_train, model_l.coef_) + model_l.intercept_, color='green')"
   ]
  },
  {
   "cell_type": "code",
   "execution_count": 95,
   "metadata": {
    "scrolled": true
   },
   "outputs": [
    {
     "data": {
      "text/plain": [
       "(0.081510421406052247, 0.082833503322207083, -0.0013230819161548363)"
      ]
     },
     "execution_count": 95,
     "metadata": {},
     "output_type": "execute_result"
    }
   ],
   "source": [
    "# MSE linear\n",
    "error_test_l = mean_squared_error(y_test, np.dot(x_test, model_l.coef_) + model_l.intercept_)\n",
    "error_train_l = mean_squared_error(y_train, np.dot(x_train, model_l.coef_) + model_l.intercept_)\n",
    "\n",
    "error_test_l, error_train_l, (error_test_l - error_train_l)"
   ]
  },
  {
   "cell_type": "code",
   "execution_count": 96,
   "metadata": {},
   "outputs": [
    {
     "data": {
      "text/plain": [
       "(0.081500608448399237, 0.082833799931206514, -0.0013331914828072777)"
      ]
     },
     "execution_count": 96,
     "metadata": {},
     "output_type": "execute_result"
    }
   ],
   "source": [
    "# MSE ridge\n",
    "error_test_r = mean_squared_error(y_test, np.dot(x_test, model_r.coef_) + model_r.intercept_)\n",
    "error_train_r = mean_squared_error(y_train, np.dot(x_train, model_r.coef_) + model_r.intercept_)\n",
    "\n",
    "error_test_r, error_train_r, (error_test_r - error_train_r)"
   ]
  },
  {
   "cell_type": "markdown",
   "metadata": {},
   "source": [
    "# 4 split = 0.4"
   ]
  },
  {
   "cell_type": "code",
   "execution_count": 11,
   "metadata": {
    "collapsed": true
   },
   "outputs": [],
   "source": [
    "# split = .4\n",
    "x_train, x_test, y_train, y_test = train_test_split(x, y, test_size=.4)"
   ]
  },
  {
   "cell_type": "code",
   "execution_count": 12,
   "metadata": {},
   "outputs": [
    {
     "data": {
      "text/plain": [
       "(array([ 0.99498533]), 0.0014573072033993162)"
      ]
     },
     "execution_count": 12,
     "metadata": {},
     "output_type": "execute_result"
    }
   ],
   "source": [
    "# linear\n",
    "model_l = LinearRegression()\n",
    "model_l.fit(x_train, y_train)\n",
    "model_l.coef_, model_l.intercept_"
   ]
  },
  {
   "cell_type": "code",
   "execution_count": 13,
   "metadata": {},
   "outputs": [
    {
     "data": {
      "text/plain": [
       "(array([ 0.99294451]), 0.0024906790197232187)"
      ]
     },
     "execution_count": 13,
     "metadata": {},
     "output_type": "execute_result"
    }
   ],
   "source": [
    "# ridge \n",
    "\n",
    "model_r = Ridge()\n",
    "model_r.fit(x_train, y_train)\n",
    "model_r.coef_, model_r.intercept_"
   ]
  },
  {
   "cell_type": "code",
   "execution_count": 14,
   "metadata": {},
   "outputs": [
    {
     "data": {
      "text/plain": [
       "[<matplotlib.lines.Line2D at 0x1191bdc88>]"
      ]
     },
     "execution_count": 14,
     "metadata": {},
     "output_type": "execute_result"
    },
    {
     "data": {
      "image/png": "[encoded data removed]",
      "text/plain": [
       "<matplotlib.figure.Figure at 0x115e2b4a8>"
      ]
     },
     "metadata": {},
     "output_type": "display_data"
    }
   ],
   "source": [
    "# plot linear vs ridge\n",
    "plt.scatter(x_train,y_train)\n",
    "plt.plot(x_train, np.dot(x_train, model_r.coef_) + model_r.intercept_, color='red')\n",
    "plt.plot(x_train, np.dot(x_train, model_l.coef_) + model_l.intercept_, color='green')"
   ]
  },
  {
   "cell_type": "code",
   "execution_count": 15,
   "metadata": {
    "scrolled": true
   },
   "outputs": [
    {
     "data": {
      "text/plain": [
       "(0.084330139147583222, 0.082612713577545877, 0.0017174255700373453)"
      ]
     },
     "execution_count": 15,
     "metadata": {},
     "output_type": "execute_result"
    }
   ],
   "source": [
    "# MSE linear\n",
    "error_test_l = mean_squared_error(y_test, np.dot(x_test, model_l.coef_) + model_l.intercept_)\n",
    "error_train_l = mean_squared_error(y_train, np.dot(x_train, model_l.coef_) + model_l.intercept_)\n",
    "\n",
    "error_test_l, error_train_l, (error_test_l - error_train_l)"
   ]
  },
  {
   "cell_type": "code",
   "execution_count": 16,
   "metadata": {},
   "outputs": [
    {
     "data": {
      "text/plain": [
       "(0.08432330814378125, 0.082613051314431057, 0.001710256829350193)"
      ]
     },
     "execution_count": 16,
     "metadata": {},
     "output_type": "execute_result"
    }
   ],
   "source": [
    "# MSE ridge\n",
    "error_test_r = mean_squared_error(y_test, np.dot(x_test, model_r.coef_) + model_r.intercept_)\n",
    "error_train_r = mean_squared_error(y_train, np.dot(x_train, model_r.coef_) + model_r.intercept_)\n",
    "\n",
    "error_test_r, error_train_r, (error_test_r - error_train_r)"
   ]
  },
  {
   "cell_type": "markdown",
   "metadata": {},
   "source": [
    "# 5 split = 0.45"
   ]
  },
  {
   "cell_type": "code",
   "execution_count": 102,
   "metadata": {
    "collapsed": true
   },
   "outputs": [],
   "source": [
    "# split = .45\n",
    "x_train, x_test, y_train, y_test = train_test_split(x, y, test_size=.45)"
   ]
  },
  {
   "cell_type": "code",
   "execution_count": 103,
   "metadata": {},
   "outputs": [
    {
     "data": {
      "text/plain": [
       "(array([ 0.99977416]), -0.0028867146717420633)"
      ]
     },
     "execution_count": 103,
     "metadata": {},
     "output_type": "execute_result"
    }
   ],
   "source": [
    "# linear\n",
    "model_l = LinearRegression()\n",
    "model_l.fit(x_train, y_train)\n",
    "model_l.coef_, model_l.intercept_"
   ]
  },
  {
   "cell_type": "code",
   "execution_count": 104,
   "metadata": {},
   "outputs": [
    {
     "data": {
      "text/plain": [
       "(array([ 0.99755541]), 0.021594324242331264)"
      ]
     },
     "execution_count": 104,
     "metadata": {},
     "output_type": "execute_result"
    }
   ],
   "source": [
    "# ridge \n",
    "\n",
    "model_r = Ridge()\n",
    "model_r.fit(x_train, y_train)\n",
    "model_r.coef_, model.intercept_"
   ]
  },
  {
   "cell_type": "code",
   "execution_count": 105,
   "metadata": {
    "scrolled": true
   },
   "outputs": [
    {
     "data": {
      "text/plain": [
       "[<matplotlib.lines.Line2D at 0x11831afd0>]"
      ]
     },
     "execution_count": 105,
     "metadata": {},
     "output_type": "execute_result"
    },
    {
     "data": {
      "image/png": "[encoded data removed]",
      "text/plain": [
       "<matplotlib.figure.Figure at 0x1181d3d68>"
      ]
     },
     "metadata": {},
     "output_type": "display_data"
    }
   ],
   "source": [
    "# plot linear vs ridge\n",
    "plt.scatter(x_train,y_train)\n",
    "plt.plot(x_train, np.dot(x_train, model_r.coef_) + model_r.intercept_, color='red')\n",
    "plt.plot(x_train, np.dot(x_train, model_l.coef_) + model_l.intercept_, color='green')"
   ]
  },
  {
   "cell_type": "code",
   "execution_count": 106,
   "metadata": {
    "scrolled": true
   },
   "outputs": [
    {
     "data": {
      "text/plain": [
       "(0.081891989200816848, 0.082684353684434622, -0.00079236448361777456)"
      ]
     },
     "execution_count": 106,
     "metadata": {},
     "output_type": "execute_result"
    }
   ],
   "source": [
    "# MSE linear\n",
    "error_test_l = mean_squared_error(y_test, np.dot(x_test, model_l.coef_) + model_l.intercept_)\n",
    "error_train_l = mean_squared_error(y_train, np.dot(x_train, model_l.coef_) + model_l.intercept_)\n",
    "\n",
    "error_test_l, error_train_l, (error_test_l - error_train_l)"
   ]
  },
  {
   "cell_type": "code",
   "execution_count": 107,
   "metadata": {},
   "outputs": [
    {
     "data": {
      "text/plain": [
       "(0.081895351774552025, 0.082684756107365767, -0.00078940433281374234)"
      ]
     },
     "execution_count": 107,
     "metadata": {},
     "output_type": "execute_result"
    }
   ],
   "source": [
    "# MSE ridge\n",
    "error_test_r = mean_squared_error(y_test, np.dot(x_test, model_r.coef_) + model_r.intercept_)\n",
    "error_train_r = mean_squared_error(y_train, np.dot(x_train, model_r.coef_) + model_r.intercept_)\n",
    "\n",
    "error_test_r, error_train_r, (error_test_r - error_train_r)"
   ]
  },
  {
   "cell_type": "markdown",
   "metadata": {},
   "source": [
    "# 6 split = 0.55"
   ]
  },
  {
   "cell_type": "code",
   "execution_count": 108,
   "metadata": {
    "collapsed": true
   },
   "outputs": [],
   "source": [
    "# split = .55\n",
    "x_train, x_test, y_train, y_test = train_test_split(x, y, test_size=.55)"
   ]
  },
  {
   "cell_type": "code",
   "execution_count": 109,
   "metadata": {},
   "outputs": [
    {
     "data": {
      "text/plain": [
       "(array([ 0.99358423]), 0.0032592518411875826)"
      ]
     },
     "execution_count": 109,
     "metadata": {},
     "output_type": "execute_result"
    }
   ],
   "source": [
    "# linear\n",
    "model_l = LinearRegression()\n",
    "model_l.fit(x_train, y_train)\n",
    "model_l.coef_, model_l.intercept_"
   ]
  },
  {
   "cell_type": "code",
   "execution_count": 110,
   "metadata": {},
   "outputs": [
    {
     "data": {
      "text/plain": [
       "(array([ 0.99086691]), 0.0046281700138917081)"
      ]
     },
     "execution_count": 110,
     "metadata": {},
     "output_type": "execute_result"
    }
   ],
   "source": [
    "# ridge \n",
    "model_r = Ridge()\n",
    "model_r.fit(x_train, y_train)\n",
    "model_r.coef_, model_r.intercept_"
   ]
  },
  {
   "cell_type": "code",
   "execution_count": 111,
   "metadata": {
    "scrolled": true
   },
   "outputs": [
    {
     "data": {
      "text/plain": [
       "[<matplotlib.lines.Line2D at 0x1184b0c50>]"
      ]
     },
     "execution_count": 111,
     "metadata": {},
     "output_type": "execute_result"
    },
    {
     "data": {
      "image/png": "[encoded data removed]",
      "text/plain": [
       "<matplotlib.figure.Figure at 0x118334b00>"
      ]
     },
     "metadata": {},
     "output_type": "display_data"
    }
   ],
   "source": [
    "# plot linear vs ridge\n",
    "plt.scatter(x_train,y_train)\n",
    "plt.plot(x_train, np.dot(x_train, model_r.coef_) + model_r.intercept_, color='red')\n",
    "plt.plot(x_train, np.dot(x_train, model_l.coef_) + model_l.intercept_, color='green')"
   ]
  },
  {
   "cell_type": "code",
   "execution_count": 112,
   "metadata": {
    "scrolled": true
   },
   "outputs": [
    {
     "data": {
      "text/plain": [
       "(0.081777829158195051, 0.083030790498059864, -0.0012529613398648137)"
      ]
     },
     "execution_count": 112,
     "metadata": {},
     "output_type": "execute_result"
    }
   ],
   "source": [
    "# MSE linear\n",
    "error_test_l = mean_squared_error(y_test, np.dot(x_test, model_l.coef_) + model_l.intercept_)\n",
    "error_train_l = mean_squared_error(y_train, np.dot(x_train, model_l.coef_) + model_l.intercept_)\n",
    "\n",
    "error_test_l, error_train_l, (error_test_l - error_train_l)"
   ]
  },
  {
   "cell_type": "code",
   "execution_count": 113,
   "metadata": {},
   "outputs": [
    {
     "data": {
      "text/plain": [
       "(0.081786364955572691, 0.083031388831827604, -0.0012450238762549137)"
      ]
     },
     "execution_count": 113,
     "metadata": {},
     "output_type": "execute_result"
    }
   ],
   "source": [
    "# MSE ridge\n",
    "error_test_r = mean_squared_error(y_test, np.dot(x_test, model_r.coef_) + model_r.intercept_)\n",
    "error_train_r = mean_squared_error(y_train, np.dot(x_train, model_r.coef_) + model_r.intercept_)\n",
    "\n",
    "error_test_r, error_train_r, (error_test_r - error_train_r)"
   ]
  },
  {
   "cell_type": "markdown",
   "metadata": {},
   "source": [
    "# 7 split = 0.6"
   ]
  },
  {
   "cell_type": "code",
   "execution_count": 223,
   "metadata": {
    "collapsed": true
   },
   "outputs": [],
   "source": [
    "# split = .6\n",
    "x_train, x_test, y_train, y_test = train_test_split(x, y, test_size=.6)"
   ]
  },
  {
   "cell_type": "code",
   "execution_count": 224,
   "metadata": {},
   "outputs": [
    {
     "data": {
      "text/plain": [
       "(array([ 1.00214698]), -0.0028383966551119855)"
      ]
     },
     "execution_count": 224,
     "metadata": {},
     "output_type": "execute_result"
    }
   ],
   "source": [
    "# linear\n",
    "model_l = LinearRegression()\n",
    "model_l.fit(x_train, y_train)\n",
    "model_l.coef_, model_l.intercept_"
   ]
  },
  {
   "cell_type": "code",
   "execution_count": 225,
   "metadata": {},
   "outputs": [
    {
     "data": {
      "text/plain": [
       "(array([ 0.99910776]), -0.0012988611853768095)"
      ]
     },
     "execution_count": 225,
     "metadata": {},
     "output_type": "execute_result"
    }
   ],
   "source": [
    "# ridge \n",
    "model_r = Ridge()\n",
    "model_r.fit(x_train, y_train)\n",
    "model_r.coef_, model_r.intercept_"
   ]
  },
  {
   "cell_type": "code",
   "execution_count": 226,
   "metadata": {
    "scrolled": true
   },
   "outputs": [
    {
     "data": {
      "text/plain": [
       "[<matplotlib.lines.Line2D at 0x119f3df28>]"
      ]
     },
     "execution_count": 226,
     "metadata": {},
     "output_type": "execute_result"
    },
    {
     "data": {
      "image/png": "[encoded data removed]",
      "text/plain": [
       "<matplotlib.figure.Figure at 0x119e5b0b8>"
      ]
     },
     "metadata": {},
     "output_type": "display_data"
    }
   ],
   "source": [
    "# plot linear vs ridge\n",
    "plt.scatter(x_train,y_train)\n",
    "plt.plot(x_train, np.dot(x_train, model_r.coef_) + model_r.intercept_, color='red')\n",
    "plt.plot(x_train, np.dot(x_train, model_l.coef_) + model_l.intercept_, color='green')"
   ]
  },
  {
   "cell_type": "code",
   "execution_count": 227,
   "metadata": {
    "scrolled": true
   },
   "outputs": [
    {
     "data": {
      "text/plain": [
       "(0.082146847717331897, 0.082598518625609837, -0.00045167090827794021)"
      ]
     },
     "execution_count": 227,
     "metadata": {},
     "output_type": "execute_result"
    }
   ],
   "source": [
    "# MSE linear\n",
    "error_test_l = mean_squared_error(y_test, np.dot(x_test, model_l.coef_) + model_l.intercept_)\n",
    "error_train_l = mean_squared_error(y_train, np.dot(x_train, model_l.coef_) + model_l.intercept_)\n",
    "\n",
    "error_test_l, error_train_l, (error_test_l - error_train_l)"
   ]
  },
  {
   "cell_type": "code",
   "execution_count": 228,
   "metadata": {},
   "outputs": [
    {
     "data": {
      "text/plain": [
       "(0.082148689034874711, 0.082599277754346362, -0.00045058871947165069)"
      ]
     },
     "execution_count": 228,
     "metadata": {},
     "output_type": "execute_result"
    }
   ],
   "source": [
    "# MSE ridge\n",
    "error_test_r = mean_squared_error(y_test, np.dot(x_test, model_r.coef_) + model_r.intercept_)\n",
    "error_train_r = mean_squared_error(y_train, np.dot(x_train, model_r.coef_) + model_r.intercept_)\n",
    "\n",
    "error_test_r, error_train_r, (error_test_r - error_train_r)"
   ]
  },
  {
   "cell_type": "markdown",
   "metadata": {},
   "source": [
    "# 8 split = 0.65"
   ]
  },
  {
   "cell_type": "code",
   "execution_count": 120,
   "metadata": {
    "collapsed": true
   },
   "outputs": [],
   "source": [
    "# split = .65\n",
    "x_train, x_test, y_train, y_test = train_test_split(x, y, test_size=.65)"
   ]
  },
  {
   "cell_type": "code",
   "execution_count": 121,
   "metadata": {},
   "outputs": [
    {
     "data": {
      "text/plain": [
       "(array([ 0.99549528]), -0.0065649052199639457)"
      ]
     },
     "execution_count": 121,
     "metadata": {},
     "output_type": "execute_result"
    }
   ],
   "source": [
    "# linear\n",
    "model_l = LinearRegression()\n",
    "model_l.fit(x_train, y_train)\n",
    "model_l.coef_, model_l.intercept_"
   ]
  },
  {
   "cell_type": "code",
   "execution_count": 122,
   "metadata": {},
   "outputs": [
    {
     "data": {
      "text/plain": [
       "(array([ 0.99199938]), -0.0047862833400262317)"
      ]
     },
     "execution_count": 122,
     "metadata": {},
     "output_type": "execute_result"
    }
   ],
   "source": [
    "# ridge \n",
    "model_r = Ridge()\n",
    "model_r.fit(x_train, y_train)\n",
    "model_r.coef_, model_r.intercept_"
   ]
  },
  {
   "cell_type": "code",
   "execution_count": 123,
   "metadata": {
    "scrolled": true
   },
   "outputs": [
    {
     "data": {
      "text/plain": [
       "[<matplotlib.lines.Line2D at 0x118718f28>]"
      ]
     },
     "execution_count": 123,
     "metadata": {},
     "output_type": "execute_result"
    },
    {
     "data": {
      "image/png": "[encoded data removed]",
      "text/plain": [
       "<matplotlib.figure.Figure at 0x11834a5f8>"
      ]
     },
     "metadata": {},
     "output_type": "display_data"
    }
   ],
   "source": [
    "# plot linear vs ridge\n",
    "plt.scatter(x_train,y_train)\n",
    "plt.plot(x_train, np.dot(x_train, model_r.coef_) + model_r.intercept_, color='red')\n",
    "plt.plot(x_train, np.dot(x_train, model_l.coef_) + model_l.intercept_, color='green')"
   ]
  },
  {
   "cell_type": "code",
   "execution_count": 124,
   "metadata": {
    "scrolled": true
   },
   "outputs": [
    {
     "data": {
      "text/plain": [
       "(0.082909764809568423, 0.081367559518767715, 0.0015422052908007078)"
      ]
     },
     "execution_count": 124,
     "metadata": {},
     "output_type": "execute_result"
    }
   ],
   "source": [
    "# MSE linear\n",
    "error_test_l = mean_squared_error(y_test, np.dot(x_test, model_l.coef_) + model_l.intercept_)\n",
    "error_train_l = mean_squared_error(y_train, np.dot(x_train, model_l.coef_) + model_l.intercept_)\n",
    "\n",
    "error_test_l, error_train_l, (error_test_l - error_train_l)"
   ]
  },
  {
   "cell_type": "code",
   "execution_count": 125,
   "metadata": {},
   "outputs": [
    {
     "data": {
      "text/plain": [
       "(0.082917503478620938, 0.081368550357100597, 0.0015489531215203411)"
      ]
     },
     "execution_count": 125,
     "metadata": {},
     "output_type": "execute_result"
    }
   ],
   "source": [
    "# MSE ridge\n",
    "error_test_r = mean_squared_error(y_test, np.dot(x_test, model_r.coef_) + model_r.intercept_)\n",
    "error_train_r = mean_squared_error(y_train, np.dot(x_train, model_r.coef_) + model_r.intercept_)\n",
    "\n",
    "error_test_r, error_train_r, (error_test_r - error_train_r)"
   ]
  },
  {
   "cell_type": "markdown",
   "metadata": {},
   "source": [
    "# 9 split = 0.7"
   ]
  },
  {
   "cell_type": "code",
   "execution_count": 126,
   "metadata": {
    "collapsed": true
   },
   "outputs": [],
   "source": [
    "# split = .7\n",
    "x_train, x_test, y_train, y_test = train_test_split(x, y, test_size=.7)"
   ]
  },
  {
   "cell_type": "code",
   "execution_count": 127,
   "metadata": {},
   "outputs": [
    {
     "data": {
      "text/plain": [
       "(array([ 1.00447505]), -0.0021889600085946981)"
      ]
     },
     "execution_count": 127,
     "metadata": {},
     "output_type": "execute_result"
    }
   ],
   "source": [
    "# linear\n",
    "model_l = LinearRegression()\n",
    "model_l.fit(x_train, y_train)\n",
    "model_l.coef_, model_l.intercept_"
   ]
  },
  {
   "cell_type": "code",
   "execution_count": 128,
   "metadata": {},
   "outputs": [
    {
     "data": {
      "text/plain": [
       "(array([ 1.00026494]), -4.6089377216507188e-05)"
      ]
     },
     "execution_count": 128,
     "metadata": {},
     "output_type": "execute_result"
    }
   ],
   "source": [
    "# ridge \n",
    "model_r = Ridge()\n",
    "model_r.fit(x_train, y_train)\n",
    "model_r.coef_, model_r.intercept_"
   ]
  },
  {
   "cell_type": "code",
   "execution_count": 129,
   "metadata": {
    "scrolled": true
   },
   "outputs": [
    {
     "data": {
      "text/plain": [
       "[<matplotlib.lines.Line2D at 0x11882be80>]"
      ]
     },
     "execution_count": 129,
     "metadata": {},
     "output_type": "execute_result"
    },
    {
     "data": {
      "image/png": "[encoded data removed]",
      "text/plain": [
       "<matplotlib.figure.Figure at 0x118731978>"
      ]
     },
     "metadata": {},
     "output_type": "display_data"
    }
   ],
   "source": [
    "# plot linear vs ridge\n",
    "plt.scatter(x_train,y_train)\n",
    "plt.plot(x_train, np.dot(x_train, model_r.coef_) + model_r.intercept_, color='red')\n",
    "plt.plot(x_train, np.dot(x_train, model_l.coef_) + model_l.intercept_, color='green')"
   ]
  },
  {
   "cell_type": "code",
   "execution_count": 130,
   "metadata": {
    "scrolled": true
   },
   "outputs": [
    {
     "data": {
      "text/plain": [
       "(0.082062843540077715, 0.082966969041628313, -0.00090412550155059834)"
      ]
     },
     "execution_count": 130,
     "metadata": {},
     "output_type": "execute_result"
    }
   ],
   "source": [
    "# MSE linear\n",
    "error_test_l = mean_squared_error(y_test, np.dot(x_test, model_l.coef_) + model_l.intercept_)\n",
    "error_train_l = mean_squared_error(y_train, np.dot(x_train, model_l.coef_) + model_l.intercept_)\n",
    "\n",
    "error_test_l, error_train_l, (error_test_l - error_train_l)"
   ]
  },
  {
   "cell_type": "code",
   "execution_count": 131,
   "metadata": {},
   "outputs": [
    {
     "data": {
      "text/plain": [
       "(0.08206343081540525, 0.082968372783763136, -0.00090494196835788632)"
      ]
     },
     "execution_count": 131,
     "metadata": {},
     "output_type": "execute_result"
    }
   ],
   "source": [
    "# MSE ridge\n",
    "error_test_r = mean_squared_error(y_test, np.dot(x_test, model_r.coef_) + model_r.intercept_)\n",
    "error_train_r = mean_squared_error(y_train, np.dot(x_train, model_r.coef_) + model_r.intercept_)\n",
    "\n",
    "error_test_r, error_train_r, (error_test_r - error_train_r)"
   ]
  },
  {
   "cell_type": "markdown",
   "metadata": {},
   "source": [
    "# 10 split = .75"
   ]
  },
  {
   "cell_type": "code",
   "execution_count": 217,
   "metadata": {
    "collapsed": true
   },
   "outputs": [],
   "source": [
    "# split = .75\n",
    "x_train, x_test, y_train, y_test = train_test_split(x, y, test_size=.75)"
   ]
  },
  {
   "cell_type": "code",
   "execution_count": 218,
   "metadata": {},
   "outputs": [
    {
     "data": {
      "text/plain": [
       "(array([ 0.99025683]), -0.0045314266486700672)"
      ]
     },
     "execution_count": 218,
     "metadata": {},
     "output_type": "execute_result"
    }
   ],
   "source": [
    "# linear\n",
    "model_l = LinearRegression()\n",
    "model_l.fit(x_train, y_train)\n",
    "model_l.coef_, model_l.intercept_"
   ]
  },
  {
   "cell_type": "code",
   "execution_count": 219,
   "metadata": {},
   "outputs": [
    {
     "data": {
      "text/plain": [
       "(array([ 0.98549144]), -0.002141639611790036)"
      ]
     },
     "execution_count": 219,
     "metadata": {},
     "output_type": "execute_result"
    }
   ],
   "source": [
    "# ridge \n",
    "model = Ridge()\n",
    "model.fit(x_train, y_train)\n",
    "model.coef_, model.intercept_"
   ]
  },
  {
   "cell_type": "code",
   "execution_count": 220,
   "metadata": {
    "scrolled": true
   },
   "outputs": [
    {
     "data": {
      "text/plain": [
       "[<matplotlib.lines.Line2D at 0x119e2feb8>]"
      ]
     },
     "execution_count": 220,
     "metadata": {},
     "output_type": "execute_result"
    },
    {
     "data": {
      "image/png": "[encoded data removed]",
      "text/plain": [
       "<matplotlib.figure.Figure at 0x119d0be80>"
      ]
     },
     "metadata": {},
     "output_type": "display_data"
    }
   ],
   "source": [
    "# plot linear vs ridge\n",
    "plt.scatter(x_train,y_train)\n",
    "plt.plot(x_train, np.dot(x_train, model_r.coef_) + model_r.intercept_, color='red')\n",
    "plt.plot(x_train, np.dot(x_train, model_l.coef_) + model_l.intercept_, color='green')"
   ]
  },
  {
   "cell_type": "code",
   "execution_count": 221,
   "metadata": {
    "scrolled": true
   },
   "outputs": [
    {
     "data": {
      "text/plain": [
       "(0.082547320224973825, 0.081905978560970358, 0.00064134166400346693)"
      ]
     },
     "execution_count": 221,
     "metadata": {},
     "output_type": "execute_result"
    }
   ],
   "source": [
    "# MSE linear\n",
    "error_test_l = mean_squared_error(y_test, np.dot(x_test, model_l.coef_) + model_l.intercept_)\n",
    "error_train_l = mean_squared_error(y_train, np.dot(x_train, model_l.coef_) + model_l.intercept_)\n",
    "\n",
    "error_test_l, error_train_l, (error_test_l - error_train_l)"
   ]
  },
  {
   "cell_type": "code",
   "execution_count": 222,
   "metadata": {},
   "outputs": [
    {
     "data": {
      "text/plain": [
       "(0.082463906414840277, 0.081942812705241272, 0.00052109370959900481)"
      ]
     },
     "execution_count": 222,
     "metadata": {},
     "output_type": "execute_result"
    }
   ],
   "source": [
    "# MSE ridge\n",
    "error_test_r = mean_squared_error(y_test, np.dot(x_test, model_r.coef_) + model_r.intercept_)\n",
    "error_train_r = mean_squared_error(y_train, np.dot(x_train, model_r.coef_) + model_r.intercept_)\n",
    "\n",
    "error_test_r, error_train_r, (error_test_r - error_train_r)"
   ]
  },
  {
   "cell_type": "markdown",
   "metadata": {},
   "source": [
    "# Plot errors vs split"
   ]
  },
  {
   "cell_type": "code",
   "execution_count": 47,
   "metadata": {
    "scrolled": false
   },
   "outputs": [
    {
     "data": {
      "text/html": [
       "<div>\n",
       "<style>\n",
       "    .dataframe thead tr:only-child th {\n",
       "        text-align: right;\n",
       "    }\n",
       "\n",
       "    .dataframe thead th {\n",
       "        text-align: left;\n",
       "    }\n",
       "\n",
       "    .dataframe tbody tr th {\n",
       "        vertical-align: top;\n",
       "    }\n",
       "</style>\n",
       "<table border=\"1\" class=\"dataframe\">\n",
       "  <thead>\n",
       "    <tr style=\"text-align: right;\">\n",
       "      <th></th>\n",
       "      <th>split</th>\n",
       "      <th>error_test_l</th>\n",
       "      <th>error_train_l</th>\n",
       "      <th>diff_l</th>\n",
       "      <th>error_test_r</th>\n",
       "      <th>error_train_r</th>\n",
       "      <th>diff_r</th>\n",
       "    </tr>\n",
       "  </thead>\n",
       "  <tbody>\n",
       "    <tr>\n",
       "      <th>0</th>\n",
       "      <td>0.25</td>\n",
       "      <td>0.083455</td>\n",
       "      <td>0.081950</td>\n",
       "      <td>0.001505</td>\n",
       "      <td>0.083456</td>\n",
       "      <td>0.081951</td>\n",
       "      <td>0.001506</td>\n",
       "    </tr>\n",
       "    <tr>\n",
       "      <th>1</th>\n",
       "      <td>0.30</td>\n",
       "      <td>0.081083</td>\n",
       "      <td>0.082863</td>\n",
       "      <td>-0.001780</td>\n",
       "      <td>0.081084</td>\n",
       "      <td>0.082863</td>\n",
       "      <td>-0.001780</td>\n",
       "    </tr>\n",
       "    <tr>\n",
       "      <th>2</th>\n",
       "      <td>0.35</td>\n",
       "      <td>0.081510</td>\n",
       "      <td>0.082834</td>\n",
       "      <td>-0.001323</td>\n",
       "      <td>0.081501</td>\n",
       "      <td>0.082834</td>\n",
       "      <td>-0.001333</td>\n",
       "    </tr>\n",
       "    <tr>\n",
       "      <th>3</th>\n",
       "      <td>0.40</td>\n",
       "      <td>0.084330</td>\n",
       "      <td>0.082613</td>\n",
       "      <td>0.001717</td>\n",
       "      <td>0.084323</td>\n",
       "      <td>0.082613</td>\n",
       "      <td>0.001710</td>\n",
       "    </tr>\n",
       "    <tr>\n",
       "      <th>4</th>\n",
       "      <td>0.45</td>\n",
       "      <td>0.081892</td>\n",
       "      <td>0.082684</td>\n",
       "      <td>-0.000792</td>\n",
       "      <td>0.081895</td>\n",
       "      <td>0.082685</td>\n",
       "      <td>-0.000789</td>\n",
       "    </tr>\n",
       "  </tbody>\n",
       "</table>\n",
       "</div>"
      ],
      "text/plain": [
       "   split  error_test_l  error_train_l    diff_l  error_test_r  error_train_r  \\\n",
       "0   0.25      0.083455       0.081950  0.001505      0.083456       0.081951   \n",
       "1   0.30      0.081083       0.082863 -0.001780      0.081084       0.082863   \n",
       "2   0.35      0.081510       0.082834 -0.001323      0.081501       0.082834   \n",
       "3   0.40      0.084330       0.082613  0.001717      0.084323       0.082613   \n",
       "4   0.45      0.081892       0.082684 -0.000792      0.081895       0.082685   \n",
       "\n",
       "     diff_r  \n",
       "0  0.001506  \n",
       "1 -0.001780  \n",
       "2 -0.001333  \n",
       "3  0.001710  \n",
       "4 -0.000789  "
      ]
     },
     "execution_count": 47,
     "metadata": {},
     "output_type": "execute_result"
    }
   ],
   "source": [
    "import pandas as pd\n",
    "\n",
    "splits = pd.read_csv('../data/splits.csv', skipinitialspace=True)\n",
    "splits.head()"
   ]
  },
  {
   "cell_type": "code",
   "execution_count": 48,
   "metadata": {
    "scrolled": false
   },
   "outputs": [
    {
     "data": {
      "text/plain": [
       "<matplotlib.collections.PathCollection at 0x1214f6358>"
      ]
     },
     "execution_count": 48,
     "metadata": {},
     "output_type": "execute_result"
    },
    {
     "data": {
      "image/png": "[encoded data removed]",
      "text/plain": [
       "<matplotlib.figure.Figure at 0x120f89898>"
      ]
     },
     "metadata": {},
     "output_type": "display_data"
    }
   ],
   "source": [
    "x = splits['split']\n",
    "y = splits['error_test_l']\n",
    "plt.scatter(x,y)"
   ]
  },
  {
   "cell_type": "code",
   "execution_count": 50,
   "metadata": {
    "scrolled": true
   },
   "outputs": [
    {
     "data": {
      "text/plain": [
       "<matplotlib.collections.PathCollection at 0x121556fd0>"
      ]
     },
     "execution_count": 50,
     "metadata": {},
     "output_type": "execute_result"
    },
    {
     "data": {
      "image/png": "[encoded data removed]",
      "text/plain": [
       "<matplotlib.figure.Figure at 0x120d9be10>"
      ]
     },
     "metadata": {},
     "output_type": "display_data"
    }
   ],
   "source": [
    "x = splits['split']\n",
    "y = splits['error_train_l']\n",
    "plt.scatter(x,y)"
   ]
  },
  {
   "cell_type": "code",
   "execution_count": 51,
   "metadata": {
    "scrolled": true
   },
   "outputs": [
    {
     "data": {
      "text/plain": [
       "<matplotlib.collections.PathCollection at 0x12184d358>"
      ]
     },
     "execution_count": 51,
     "metadata": {},
     "output_type": "execute_result"
    },
    {
     "data": {
      "image/png": "[encoded data removed]",
      "text/plain": [
       "<matplotlib.figure.Figure at 0x121749c50>"
      ]
     },
     "metadata": {},
     "output_type": "display_data"
    }
   ],
   "source": [
    "x = splits['split']\n",
    "y = splits['error_test_r']\n",
    "plt.scatter(x,y)"
   ]
  },
  {
   "cell_type": "code",
   "execution_count": 52,
   "metadata": {},
   "outputs": [
    {
     "data": {
      "text/plain": [
       "<matplotlib.collections.PathCollection at 0x1218995c0>"
      ]
     },
     "execution_count": 52,
     "metadata": {},
     "output_type": "execute_result"
    },
    {
     "data": {
      "image/png": "[encoded data removed]",
      "text/plain": [
       "<matplotlib.figure.Figure at 0x121869208>"
      ]
     },
     "metadata": {},
     "output_type": "display_data"
    }
   ],
   "source": [
    "x = splits['split']\n",
    "y = splits['error_train_r']\n",
    "plt.scatter(x,y)"
   ]
  },
  {
   "cell_type": "markdown",
   "metadata": {},
   "source": [
    "## 4. Chose an ideal split size based on the previous plot for Ridge.\n",
    "## Vary the Ridge parameter `alpha` from 0 to any value you'd like above 1. Plot the Train and Test error. Describe what you see based on the `alpha` parameter's stiffness."
   ]
  },
  {
   "cell_type": "code",
   "execution_count": 138,
   "metadata": {
    "collapsed": true
   },
   "outputs": [],
   "source": [
    "# Ideal split size is truly arbitrary, since the margin of error has little variation. I will be using split = 0.6\n",
    "# since the error for the train vs test is the smallest"
   ]
  },
  {
   "cell_type": "code",
   "execution_count": 56,
   "metadata": {},
   "outputs": [
    {
     "data": {
      "image/png": "[encoded data removed]",
      "text/plain": [
       "<matplotlib.figure.Figure at 0x1213d4860>"
      ]
     },
     "metadata": {},
     "output_type": "display_data"
    },
    {
     "data": {
      "image/png": "[encoded data removed]",
      "text/plain": [
       "<matplotlib.figure.Figure at 0x121373a20>"
      ]
     },
     "metadata": {},
     "output_type": "display_data"
    },
    {
     "data": {
      "image/png": "[encoded data removed]",
      "text/plain": [
       "<matplotlib.figure.Figure at 0x121266be0>"
      ]
     },
     "metadata": {},
     "output_type": "display_data"
    },
    {
     "data": {
      "image/png": "[encoded data removed]",
      "text/plain": [
       "<matplotlib.figure.Figure at 0x121154940>"
      ]
     },
     "metadata": {},
     "output_type": "display_data"
    }
   ],
   "source": [
    "# loop over all splits\n",
    "split = 0.6\n",
    "alphas = np.linspace(0,100, 50)\n",
    "data = []\n",
    "for alpha in alphas:\n",
    "    x_train, x_test, y_train, y_test = train_test_split(x, y, test_size=split)\n",
    "    x_train = x_train.reshape(-1,1)\n",
    "    x_test = x_test.reshape(-1,1)\n",
    "    \n",
    "    model_l = LinearRegression()\n",
    "    model_l.fit(x_train, y_train)\n",
    "    model_l.coef_, model_l.intercept_\n",
    "    # ridge \n",
    "    model_r = Ridge(alpha=alpha)\n",
    "    model_r.fit(x_train, y_train)\n",
    "    model_r.coef_, model_r.intercept_\n",
    "    # MSE linear\n",
    "    error_test_l = mean_squared_error(y_test, np.dot(x_test, model_l.coef_) + model_l.intercept_)\n",
    "    error_train_l = mean_squared_error(y_train, np.dot(x_train, model_l.coef_) + model_l.intercept_)\n",
    "\n",
    "    error_test_l, error_train_l, (error_test_l - error_train_l)\n",
    "    # MSE ridge\n",
    "    error_test_r = mean_squared_error(y_test, np.dot(x_test, model_r.coef_) + model_r.intercept_)\n",
    "    error_train_r = mean_squared_error(y_train, np.dot(x_train, model_r.coef_) + model_r.intercept_)\n",
    "\n",
    "#     error_test_r, error_train_r, (error_test_r - error_train_r)\n",
    "    \n",
    "    \n",
    "    data.append({\n",
    "        'alpha':alpha,\n",
    "        'error_test_l':error_test_l,\n",
    "        'error_test_r':error_test_r,\n",
    "        'error_train_l': error_train_l,\n",
    "        'error_train_r': error_train_r})\n",
    "\n",
    "data = pd.DataFrame(data)\n",
    "data.head()\n",
    "   \n",
    "tags = [\n",
    "    'error_test_r',\n",
    "    'error_test_l',\n",
    "    'error_train_l',\n",
    "    'error_train_r'\n",
    "]\n",
    "for tag in tags:\n",
    "    data.plot('alpha', tag, kind='scatter')\n"
   ]
  },
  {
   "cell_type": "markdown",
   "metadata": {},
   "source": [
    "# Summary\n",
    "Again, the above plots were placed in a for loop and stored to a file for simplicity. The alphas were varied into 50 bins for plotting. The data is underfitting to the model. The error for ridge regressions generally increases as alpha approaches 100, with more volatility at the beginning, whereas the linear regression remains relatively stable as alphas approach 100, which makes sense. The below plots are selected alphas between 2-5 with generated errors."
   ]
  },
  {
   "cell_type": "markdown",
   "metadata": {},
   "source": [
    "# Alpha = 2"
   ]
  },
  {
   "cell_type": "code",
   "execution_count": 239,
   "metadata": {
    "collapsed": true
   },
   "outputs": [],
   "source": [
    "# split = .6\n",
    "x_train, x_test, y_train, y_test = train_test_split(x, y, test_size=.6)"
   ]
  },
  {
   "cell_type": "code",
   "execution_count": 240,
   "metadata": {},
   "outputs": [
    {
     "data": {
      "text/plain": [
       "(array([ 0.98221721]), 0.0031808077698369241)"
      ]
     },
     "execution_count": 240,
     "metadata": {},
     "output_type": "execute_result"
    }
   ],
   "source": [
    "# ridge \n",
    "model_r = Ridge(alpha=2)\n",
    "model_r.fit(x_train, y_train)\n",
    "model_r.coef_, model_r.intercept_"
   ]
  },
  {
   "cell_type": "code",
   "execution_count": 241,
   "metadata": {
    "scrolled": false
   },
   "outputs": [
    {
     "data": {
      "text/plain": [
       "[<matplotlib.lines.Line2D at 0x119ccb7f0>]"
      ]
     },
     "execution_count": 241,
     "metadata": {},
     "output_type": "execute_result"
    },
    {
     "data": {
      "image/png": "[encoded data removed]",
      "text/plain": [
       "<matplotlib.figure.Figure at 0x119ccbf60>"
      ]
     },
     "metadata": {},
     "output_type": "display_data"
    }
   ],
   "source": [
    "# plot linear vs ridge\n",
    "plt.scatter(x_train,y_train)\n",
    "plt.plot(x_train, np.dot(x_train, model_r.coef_) + model_r.intercept_, color='red')"
   ]
  },
  {
   "cell_type": "code",
   "execution_count": 242,
   "metadata": {},
   "outputs": [
    {
     "data": {
      "text/plain": [
       "(0.082403511048295477, 0.082327927042620139, 7.5584005675338739e-05)"
      ]
     },
     "execution_count": 242,
     "metadata": {},
     "output_type": "execute_result"
    }
   ],
   "source": [
    "# MSE ridge\n",
    "error_test_r = mean_squared_error(y_test, np.dot(x_test, model_r.coef_) + model_r.intercept_)\n",
    "error_train_r = mean_squared_error(y_train, np.dot(x_train, model_r.coef_) + model_r.intercept_)\n",
    "\n",
    "error_test_r, error_train_r, (error_test_r - error_train_r)"
   ]
  },
  {
   "cell_type": "markdown",
   "metadata": {},
   "source": [
    "# Alpha = 3"
   ]
  },
  {
   "cell_type": "code",
   "execution_count": 264,
   "metadata": {},
   "outputs": [
    {
     "data": {
      "text/plain": [
       "(array([ 0.97928324]), 0.0046679745592271282)"
      ]
     },
     "execution_count": 264,
     "metadata": {},
     "output_type": "execute_result"
    }
   ],
   "source": [
    "# ridge \n",
    "model_r = Ridge(alpha=3)\n",
    "model_r.fit(x_train, y_train)\n",
    "model_r.coef_, model_r.intercept_"
   ]
  },
  {
   "cell_type": "code",
   "execution_count": 265,
   "metadata": {
    "scrolled": false
   },
   "outputs": [
    {
     "data": {
      "text/plain": [
       "[<matplotlib.lines.Line2D at 0x11b14fd30>]"
      ]
     },
     "execution_count": 265,
     "metadata": {},
     "output_type": "execute_result"
    },
    {
     "data": {
      "image/png": "[encoded data removed]",
      "text/plain": [
       "<matplotlib.figure.Figure at 0x11b14fcc0>"
      ]
     },
     "metadata": {},
     "output_type": "display_data"
    }
   ],
   "source": [
    "# plot linear vs ridge\n",
    "plt.scatter(x_train,y_train)\n",
    "plt.plot(x_train, np.dot(x_train, model_r.coef_) + model_r.intercept_, color='red')"
   ]
  },
  {
   "cell_type": "code",
   "execution_count": 266,
   "metadata": {},
   "outputs": [
    {
     "data": {
      "text/plain": [
       "(0.08241918895374567, 0.082331522824764664, 8.7666128981006564e-05)"
      ]
     },
     "execution_count": 266,
     "metadata": {},
     "output_type": "execute_result"
    }
   ],
   "source": [
    "# MSE ridge\n",
    "error_test_r = mean_squared_error(y_test, np.dot(x_test, model_r.coef_) + model_r.intercept_)\n",
    "error_train_r = mean_squared_error(y_train, np.dot(x_train, model_r.coef_) + model_r.intercept_)\n",
    "\n",
    "error_test_r, error_train_r, (error_test_r - error_train_r)"
   ]
  },
  {
   "cell_type": "markdown",
   "metadata": {},
   "source": [
    "# Alpha = 4"
   ]
  },
  {
   "cell_type": "code",
   "execution_count": 267,
   "metadata": {},
   "outputs": [
    {
     "data": {
      "text/plain": [
       "(array([ 0.97636675]), 0.0061462832261642841)"
      ]
     },
     "execution_count": 267,
     "metadata": {},
     "output_type": "execute_result"
    }
   ],
   "source": [
    "# ridge \n",
    "model_r = Ridge(alpha=4)\n",
    "model_r.fit(x_train, y_train)\n",
    "model_r.coef_, model_r.intercept_"
   ]
  },
  {
   "cell_type": "code",
   "execution_count": 268,
   "metadata": {
    "scrolled": true
   },
   "outputs": [
    {
     "data": {
      "text/plain": [
       "[<matplotlib.lines.Line2D at 0x11ae8c5c0>]"
      ]
     },
     "execution_count": 268,
     "metadata": {},
     "output_type": "execute_result"
    },
    {
     "data": {
      "image/png": "[encoded data removed]",
      "text/plain": [
       "<matplotlib.figure.Figure at 0x11ae8cdd8>"
      ]
     },
     "metadata": {},
     "output_type": "display_data"
    }
   ],
   "source": [
    "# plot linear vs ridge\n",
    "plt.scatter(x_train,y_train)\n",
    "plt.plot(x_train, np.dot(x_train, model_r.coef_) + model_r.intercept_, color='red')"
   ]
  },
  {
   "cell_type": "code",
   "execution_count": 269,
   "metadata": {
    "scrolled": true
   },
   "outputs": [
    {
     "data": {
      "text/plain": [
       "(0.082436153212092994, 0.082336512439091195, 9.9640773001799521e-05)"
      ]
     },
     "execution_count": 269,
     "metadata": {},
     "output_type": "execute_result"
    }
   ],
   "source": [
    "# MSE ridge\n",
    "error_test_r = mean_squared_error(y_test, np.dot(x_test, model_r.coef_) + model_r.intercept_)\n",
    "error_train_r = mean_squared_error(y_train, np.dot(x_train, model_r.coef_) + model_r.intercept_)\n",
    "\n",
    "error_test_r, error_train_r, (error_test_r - error_train_r)"
   ]
  },
  {
   "cell_type": "markdown",
   "metadata": {},
   "source": [
    "# Alpha = 5"
   ]
  },
  {
   "cell_type": "code",
   "execution_count": 270,
   "metadata": {},
   "outputs": [
    {
     "data": {
      "text/plain": [
       "(array([ 0.97346758]), 0.0076158126790871195)"
      ]
     },
     "execution_count": 270,
     "metadata": {},
     "output_type": "execute_result"
    }
   ],
   "source": [
    "# ridge \n",
    "model_r = Ridge(alpha=5)\n",
    "model_r.fit(x_train, y_train)\n",
    "model_r.coef_, model_r.intercept_"
   ]
  },
  {
   "cell_type": "code",
   "execution_count": 271,
   "metadata": {
    "scrolled": true
   },
   "outputs": [
    {
     "data": {
      "text/plain": [
       "[<matplotlib.lines.Line2D at 0x11b15d6d8>]"
      ]
     },
     "execution_count": 271,
     "metadata": {},
     "output_type": "execute_result"
    },
    {
     "data": {
      "image/png": "[encoded data removed]",
      "text/plain": [
       "<matplotlib.figure.Figure at 0x11b15d160>"
      ]
     },
     "metadata": {},
     "output_type": "display_data"
    }
   ],
   "source": [
    "# plot linear vs ridge\n",
    "plt.scatter(x_train,y_train)\n",
    "plt.plot(x_train, np.dot(x_train, model_r.coef_) + model_r.intercept_, color='red')"
   ]
  },
  {
   "cell_type": "code",
   "execution_count": 272,
   "metadata": {
    "scrolled": true
   },
   "outputs": [
    {
     "data": {
      "text/plain": [
       "(0.082454380110224157, 0.082342870899640305, 0.00011150921058385166)"
      ]
     },
     "execution_count": 272,
     "metadata": {},
     "output_type": "execute_result"
    }
   ],
   "source": [
    "# MSE ridge\n",
    "error_test_r = mean_squared_error(y_test, np.dot(x_test, model_r.coef_) + model_r.intercept_)\n",
    "error_train_r = mean_squared_error(y_train, np.dot(x_train, model_r.coef_) + model_r.intercept_)\n",
    "\n",
    "error_test_r, error_train_r, (error_test_r - error_train_r)"
   ]
  },
  {
   "cell_type": "markdown",
   "metadata": {},
   "source": [
    "# Summary\n",
    "\n",
    "The mean squared error was at its lowest with alpha = 2, at 7.5584005675338739e-05. The error increased slightly at alpha = 3, and then significantly increased at higher alpha values. Therefore, the best model with the least MSE is alpha=2."
   ]
  },
  {
   "cell_type": "markdown",
   "metadata": {},
   "source": [
    "## Bonus. Either: Generate data  with a polynomial shape or use real data that you find on your own. Choose whatever regression model and process you'd like (Ridge, polynomial, etc.) and plot the Train-Test errors vs. any parameter your Model depends on (e.g. `alpha`, `degree`, etc.)"
   ]
  },
  {
   "cell_type": "code",
   "execution_count": 281,
   "metadata": {},
   "outputs": [
    {
     "data": {
      "text/html": [
       "<div>\n",
       "<style>\n",
       "    .dataframe thead tr:only-child th {\n",
       "        text-align: right;\n",
       "    }\n",
       "\n",
       "    .dataframe thead th {\n",
       "        text-align: left;\n",
       "    }\n",
       "\n",
       "    .dataframe tbody tr th {\n",
       "        vertical-align: top;\n",
       "    }\n",
       "</style>\n",
       "<table border=\"1\" class=\"dataframe\">\n",
       "  <thead>\n",
       "    <tr style=\"text-align: right;\">\n",
       "      <th></th>\n",
       "      <th>sepal_length</th>\n",
       "      <th>sepal_width</th>\n",
       "      <th>petal_length</th>\n",
       "      <th>petal_width</th>\n",
       "      <th>species</th>\n",
       "    </tr>\n",
       "  </thead>\n",
       "  <tbody>\n",
       "    <tr>\n",
       "      <th>0</th>\n",
       "      <td>5.1</td>\n",
       "      <td>3.5</td>\n",
       "      <td>1.4</td>\n",
       "      <td>0.2</td>\n",
       "      <td>setosa</td>\n",
       "    </tr>\n",
       "    <tr>\n",
       "      <th>1</th>\n",
       "      <td>4.9</td>\n",
       "      <td>3.0</td>\n",
       "      <td>1.4</td>\n",
       "      <td>0.2</td>\n",
       "      <td>setosa</td>\n",
       "    </tr>\n",
       "    <tr>\n",
       "      <th>2</th>\n",
       "      <td>4.7</td>\n",
       "      <td>3.2</td>\n",
       "      <td>1.3</td>\n",
       "      <td>0.2</td>\n",
       "      <td>setosa</td>\n",
       "    </tr>\n",
       "    <tr>\n",
       "      <th>3</th>\n",
       "      <td>4.6</td>\n",
       "      <td>3.1</td>\n",
       "      <td>1.5</td>\n",
       "      <td>0.2</td>\n",
       "      <td>setosa</td>\n",
       "    </tr>\n",
       "    <tr>\n",
       "      <th>4</th>\n",
       "      <td>5.0</td>\n",
       "      <td>3.6</td>\n",
       "      <td>1.4</td>\n",
       "      <td>0.2</td>\n",
       "      <td>setosa</td>\n",
       "    </tr>\n",
       "  </tbody>\n",
       "</table>\n",
       "</div>"
      ],
      "text/plain": [
       "   sepal_length  sepal_width  petal_length  petal_width species\n",
       "0           5.1          3.5           1.4          0.2  setosa\n",
       "1           4.9          3.0           1.4          0.2  setosa\n",
       "2           4.7          3.2           1.3          0.2  setosa\n",
       "3           4.6          3.1           1.5          0.2  setosa\n",
       "4           5.0          3.6           1.4          0.2  setosa"
      ]
     },
     "execution_count": 281,
     "metadata": {},
     "output_type": "execute_result"
    }
   ],
   "source": [
    "import pandas as pd\n",
    "from sklearn import datasets\n",
    "\n",
    "\n",
    "iris = pd.read_csv('../data/iris.csv')\n",
    "iris.head()"
   ]
  },
  {
   "cell_type": "code",
   "execution_count": 369,
   "metadata": {},
   "outputs": [
    {
     "data": {
      "text/plain": [
       "((150, 1), (150,))"
      ]
     },
     "execution_count": 369,
     "metadata": {},
     "output_type": "execute_result"
    }
   ],
   "source": [
    "# Establish x, y\n",
    "x = iris[['petal_length']]\n",
    "y = iris['petal_width']\n",
    "x.shape, y.shape"
   ]
  },
  {
   "cell_type": "code",
   "execution_count": 370,
   "metadata": {},
   "outputs": [
    {
     "data": {
      "text/plain": [
       "(array([ 0.41641913]), -0.36651404521672748)"
      ]
     },
     "execution_count": 370,
     "metadata": {},
     "output_type": "execute_result"
    }
   ],
   "source": [
    "# Initial regression\n",
    "model = LinearRegression()\n",
    "model.fit(x, y)\n",
    "model.coef_, model.intercept_"
   ]
  },
  {
   "cell_type": "code",
   "execution_count": 371,
   "metadata": {},
   "outputs": [
    {
     "data": {
      "text/plain": [
       "<matplotlib.collections.PathCollection at 0x11f7ccfd0>"
      ]
     },
     "execution_count": 371,
     "metadata": {},
     "output_type": "execute_result"
    },
    {
     "data": {
      "image/png": "[encoded data removed]",
      "text/plain": [
       "<matplotlib.figure.Figure at 0x11f6a7470>"
      ]
     },
     "metadata": {},
     "output_type": "display_data"
    }
   ],
   "source": [
    "plt.scatter(x,y)\n",
    "# iris.plot(x='petal_length', y='sepal_length', kind='scatter')"
   ]
  },
  {
   "cell_type": "code",
   "execution_count": 372,
   "metadata": {},
   "outputs": [
    {
     "data": {
      "text/plain": [
       "0    False\n",
       "1    False\n",
       "2    False\n",
       "3    False\n",
       "4    False\n",
       "Name: petal_length, dtype: bool"
      ]
     },
     "execution_count": 372,
     "metadata": {},
     "output_type": "execute_result"
    }
   ],
   "source": [
    "# establish boolean varable\n",
    "isgood = iris.petal_length > 2.5\n",
    "isgood[:5]"
   ]
  },
  {
   "cell_type": "code",
   "execution_count": 374,
   "metadata": {},
   "outputs": [
    {
     "name": "stderr",
     "output_type": "stream",
     "text": [
      "/Users/katie/anaconda3/envs/py36/lib/python3.6/site-packages/ipykernel_launcher.py:2: FutureWarning: reshape is deprecated and will raise in a subsequent release. Please use .values.reshape(...) instead\n",
      "  \n"
     ]
    },
    {
     "data": {
      "text/plain": [
       "((100, 1), (100,))"
      ]
     },
     "execution_count": 374,
     "metadata": {},
     "output_type": "execute_result"
    }
   ],
   "source": [
    "# subset data\n",
    "isgood = iris.petal_length > 2.5\n",
    "x = iris.loc[isgood, 'petal_length'].reshape(-1,1)\n",
    "y = iris.loc[isgood, 'petal_width']\n",
    "x.shape, y.shape"
   ]
  },
  {
   "cell_type": "code",
   "execution_count": 375,
   "metadata": {},
   "outputs": [
    {
     "data": {
      "text/plain": [
       "<matplotlib.collections.PathCollection at 0x11f8cd1d0>"
      ]
     },
     "execution_count": 375,
     "metadata": {},
     "output_type": "execute_result"
    },
    {
     "data": {
      "image/png": "[encoded data removed]",
      "text/plain": [
       "<matplotlib.figure.Figure at 0x11e441f28>"
      ]
     },
     "metadata": {},
     "output_type": "display_data"
    }
   ],
   "source": [
    "plt.scatter(x,y)"
   ]
  },
  {
   "cell_type": "code",
   "execution_count": 385,
   "metadata": {},
   "outputs": [
    {
     "data": {
      "text/plain": [
       "(array([[ 3.5],\n",
       "        [ 5. ],\n",
       "        [ 6.9],\n",
       "        [ 5. ],\n",
       "        [ 3.6]]), 79     1.0\n",
       " 146    1.9\n",
       " 118    2.3\n",
       " 113    2.0\n",
       " 64     1.3\n",
       " Name: petal_width, dtype: float64)"
      ]
     },
     "execution_count": 385,
     "metadata": {},
     "output_type": "execute_result"
    }
   ],
   "source": [
    "x_train, x_test, y_train, y_test = train_test_split(x, y, test_size=.5)\n",
    "x_train[:5], y_train[:5]"
   ]
  },
  {
   "cell_type": "code",
   "execution_count": 386,
   "metadata": {},
   "outputs": [
    {
     "data": {
      "text/plain": [
       "(array([ 0.4236207]), -0.40228316863377334)"
      ]
     },
     "execution_count": 386,
     "metadata": {},
     "output_type": "execute_result"
    }
   ],
   "source": [
    "# linear\n",
    "model_l = LinearRegression()\n",
    "model_l.fit(x, y)\n",
    "model_l.coef_, model_l.intercept_"
   ]
  },
  {
   "cell_type": "code",
   "execution_count": 424,
   "metadata": {},
   "outputs": [
    {
     "data": {
      "text/plain": [
       "(array([ 0.40534478]), -0.32116047879894527)"
      ]
     },
     "execution_count": 424,
     "metadata": {},
     "output_type": "execute_result"
    }
   ],
   "source": [
    "# ridge \n",
    "model_r = Ridge(alpha=0.5)\n",
    "model_r.fit(x_train, y_train)\n",
    "model_r.coef_, model_r.intercept_"
   ]
  },
  {
   "cell_type": "code",
   "execution_count": 425,
   "metadata": {},
   "outputs": [
    {
     "data": {
      "text/plain": [
       "[<matplotlib.lines.Line2D at 0x120639b00>]"
      ]
     },
     "execution_count": 425,
     "metadata": {},
     "output_type": "execute_result"
    },
    {
     "data": {
      "image/png": "[encoded data removed]",
      "text/plain": [
       "<matplotlib.figure.Figure at 0x11e27eef0>"
      ]
     },
     "metadata": {},
     "output_type": "display_data"
    }
   ],
   "source": [
    "# plot linear vs ridge\n",
    "plt.scatter(x_train,y_train)\n",
    "plt.plot(x_train, np.dot(x_train, model_r.coef_) + model_r.intercept_, color='red')\n",
    "plt.plot(x_train, np.dot(x_train, model_l.coef_) + model_l.intercept_, color='green')"
   ]
  },
  {
   "cell_type": "code",
   "execution_count": 426,
   "metadata": {
    "scrolled": true
   },
   "outputs": [
    {
     "data": {
      "text/plain": [
       "(0.068248662161277104, 0.04682046541517923, 0.021428196746097875)"
      ]
     },
     "execution_count": 426,
     "metadata": {},
     "output_type": "execute_result"
    }
   ],
   "source": [
    "# MSE linear\n",
    "error_test_l = mean_squared_error(y_test, np.dot(x_test, model_l.coef_) + model_l.intercept_)\n",
    "error_train_l = mean_squared_error(y_train, np.dot(x_train, model_l.coef_) + model_l.intercept_)\n",
    "\n",
    "error_test_l, error_train_l, (error_test_l - error_train_l)"
   ]
  },
  {
   "cell_type": "code",
   "execution_count": 427,
   "metadata": {},
   "outputs": [
    {
     "data": {
      "text/plain": [
       "(0.069012070068685205, 0.046653640078338166, 0.02235842999034704)"
      ]
     },
     "execution_count": 427,
     "metadata": {},
     "output_type": "execute_result"
    }
   ],
   "source": [
    "# MSE ridge\n",
    "error_test_r = mean_squared_error(y_test, np.dot(x_test, model_r.coef_) + model_r.intercept_)\n",
    "error_train_r = mean_squared_error(y_train, np.dot(x_train, model_r.coef_) + model_r.intercept_)\n",
    "\n",
    "error_test_r, error_train_r, (error_test_r - error_train_r)"
   ]
  },
  {
   "cell_type": "code",
   "execution_count": 86,
   "metadata": {
    "scrolled": true
   },
   "outputs": [
    {
     "data": {
      "text/html": [
       "<div>\n",
       "<style>\n",
       "    .dataframe thead tr:only-child th {\n",
       "        text-align: right;\n",
       "    }\n",
       "\n",
       "    .dataframe thead th {\n",
       "        text-align: left;\n",
       "    }\n",
       "\n",
       "    .dataframe tbody tr th {\n",
       "        vertical-align: top;\n",
       "    }\n",
       "</style>\n",
       "<table border=\"1\" class=\"dataframe\">\n",
       "  <thead>\n",
       "    <tr style=\"text-align: right;\">\n",
       "      <th></th>\n",
       "      <th>alpha</th>\n",
       "      <th>error_test_r</th>\n",
       "      <th>error_train_r</th>\n",
       "      <th>diff_r</th>\n",
       "      <th>Unnamed: 4</th>\n",
       "    </tr>\n",
       "  </thead>\n",
       "  <tbody>\n",
       "    <tr>\n",
       "      <th>0</th>\n",
       "      <td>2</td>\n",
       "      <td>0.082404</td>\n",
       "      <td>0.082328</td>\n",
       "      <td>0.000076</td>\n",
       "      <td>NaN</td>\n",
       "    </tr>\n",
       "    <tr>\n",
       "      <th>1</th>\n",
       "      <td>3</td>\n",
       "      <td>0.082419</td>\n",
       "      <td>0.082332</td>\n",
       "      <td>0.000088</td>\n",
       "      <td>NaN</td>\n",
       "    </tr>\n",
       "    <tr>\n",
       "      <th>2</th>\n",
       "      <td>4</td>\n",
       "      <td>0.082436</td>\n",
       "      <td>0.082337</td>\n",
       "      <td>0.000100</td>\n",
       "      <td>NaN</td>\n",
       "    </tr>\n",
       "    <tr>\n",
       "      <th>3</th>\n",
       "      <td>5</td>\n",
       "      <td>0.082454</td>\n",
       "      <td>0.082343</td>\n",
       "      <td>0.000112</td>\n",
       "      <td>NaN</td>\n",
       "    </tr>\n",
       "  </tbody>\n",
       "</table>\n",
       "</div>"
      ],
      "text/plain": [
       "   alpha  error_test_r  error_train_r    diff_r  Unnamed: 4\n",
       "0      2      0.082404       0.082328  0.000076         NaN\n",
       "1      3      0.082419       0.082332  0.000088         NaN\n",
       "2      4      0.082436       0.082337  0.000100         NaN\n",
       "3      5      0.082454       0.082343  0.000112         NaN"
      ]
     },
     "execution_count": 86,
     "metadata": {},
     "output_type": "execute_result"
    }
   ],
   "source": [
    "alphas = pd.read_csv('../data/alphas.csv', skipinitialspace=True)\n",
    "alphas.head()\n"
   ]
  },
  {
   "cell_type": "code",
   "execution_count": 89,
   "metadata": {
    "scrolled": true
   },
   "outputs": [
    {
     "data": {
      "text/plain": [
       "<matplotlib.collections.PathCollection at 0x12138f9b0>"
      ]
     },
     "execution_count": 89,
     "metadata": {},
     "output_type": "execute_result"
    },
    {
     "data": {
      "image/png": "[encoded data removed]",
      "text/plain": [
       "<matplotlib.figure.Figure at 0x121a4f710>"
      ]
     },
     "metadata": {},
     "output_type": "display_data"
    }
   ],
   "source": [
    "x = alphas['alpha']\n",
    "y = alphas['error_train_r']\n",
    "plt.scatter(x,y)"
   ]
  },
  {
   "cell_type": "code",
   "execution_count": 90,
   "metadata": {},
   "outputs": [
    {
     "data": {
      "text/plain": [
       "<matplotlib.collections.PathCollection at 0x120ac7748>"
      ]
     },
     "execution_count": 90,
     "metadata": {},
     "output_type": "execute_result"
    },
    {
     "data": {
      "image/png": "[encoded data removed]",
      "text/plain": [
       "<matplotlib.figure.Figure at 0x12187a8d0>"
      ]
     },
     "metadata": {},
     "output_type": "display_data"
    }
   ],
   "source": [
    "x = alphas['alpha']\n",
    "y = alphas['error_test_r']\n",
    "plt.scatter(x,y)"
   ]
  },
  {
   "cell_type": "markdown",
   "metadata": {
    "collapsed": true
   },
   "source": [
    "# Summary\n",
    "It appears the superior model with the lowest MSE is the linear model without the ridge regression. Given that these data points follow a fairly straight line this is not surprising given the data shape. There is little detectable change on the graphs in mean squared error, as it changes only a miniscule amount with each alpha value."
   ]
  },
  {
   "cell_type": "code",
   "execution_count": null,
   "metadata": {
    "collapsed": true
   },
   "outputs": [],
   "source": []
  }
 ],
 "metadata": {
  "kernelspec": {
   "display_name": "Python 3",
   "language": "python",
   "name": "python3"
  }
 },
 "nbformat": 4,
 "nbformat_minor": 2
}

{
 "cells": [
  {
   "cell_type": "code",
   "execution_count": 8,
   "metadata": {
    "collapsed": true
   },
   "outputs": [],
   "source": [
    "import numpy as np\n",
    "import pandas as pd\n",
    "import scipy as sp"
   ]
  },
  {
   "cell_type": "code",
   "execution_count": 9,
   "metadata": {
    "collapsed": false
   },
   "outputs": [],
   "source": [
    "%matplotlib inline\n",
    "import matplotlib.pyplot as plt\n",
    "plt.style.use('ggplot')"
   ]
  },
  {
   "cell_type": "code",
   "execution_count": 10,
   "metadata": {
    "collapsed": false
   },
   "outputs": [
    {
     "name": "stdout",
     "output_type": "stream",
     "text": [
      "Overwriting hw_data.csv\n"
     ]
    }
   ],
   "source": [
    "%%file hw_data.csv\n",
    "id,sex,weight,height\n",
    "1,M,190,77\n",
    "2,F,120,70\n",
    "3,F,110,68\n",
    "4,M,150,72\n",
    "5,O,120,66\n",
    "6,M,120,60\n",
    "7,F,140,70"
   ]
  },
  {
   "cell_type": "markdown",
   "metadata": {},
   "source": [
    "# Python"
   ]
  },
  {
   "cell_type": "markdown",
   "metadata": {},
   "source": [
    "## 1. Finish creating the following function that takes a list and returns the average value."
   ]
  },
  {
   "cell_type": "code",
   "execution_count": 4,
   "metadata": {
    "collapsed": false
   },
   "outputs": [
    {
     "data": {
      "text/plain": [
       "3.375"
      ]
     },
     "execution_count": 4,
     "metadata": {},
     "output_type": "execute_result"
    }
   ],
   "source": [
    "def average(my_list):\n",
    "    total = 0\n",
    "    for item in my_list:\n",
    "        total = total + item\n",
    "    count = len(my_list)\n",
    "    avg = total/count\n",
    "    \n",
    "    return avg\n",
    "\n",
    "\n",
    "average([1,2,1,4,3,2,5,9])"
   ]
  },
  {
   "cell_type": "markdown",
   "metadata": {},
   "source": [
    "## 2. Using a Dictionary keep track of the count of numbers (or items) from a list"
   ]
  },
  {
   "cell_type": "code",
   "execution_count": 5,
   "metadata": {
    "collapsed": false
   },
   "outputs": [
    {
     "data": {
      "text/plain": [
       "{1: 2, 2: 2, 3: 1, 4: 1, 5: 1, 9: 1}"
      ]
     },
     "execution_count": 5,
     "metadata": {},
     "output_type": "execute_result"
    }
   ],
   "source": [
    "def counts(my_list):\n",
    "    counts = dict()\n",
    "    for item in my_list:\n",
    "        \n",
    "        if item in counts:\n",
    "            counts[item] += 1\n",
    "        else:\n",
    "            counts[item] = 1\n",
    "        \n",
    "    \n",
    "    return counts\n",
    "\n",
    "counts([1,2,1,4,3,2,5,9])  "
   ]
  },
  {
   "cell_type": "markdown",
   "metadata": {},
   "source": [
    "## 3.  Using the `counts()` function and the `.split()` function, return a dictionary of most occuring words from the following paragraph. Bonus, remove punctuation from words."
   ]
  },
  {
   "cell_type": "code",
   "execution_count": 6,
   "metadata": {
    "collapsed": false
   },
   "outputs": [
    {
     "data": {
      "text/plain": [
       "{'Alice': 4,\n",
       " 'Alice,': 1,\n",
       " 'An': 2,\n",
       " 'And': 1,\n",
       " 'At': 1,\n",
       " 'But': 1,\n",
       " 'Duchess': 1,\n",
       " 'Duchess.': 1,\n",
       " 'First,': 1,\n",
       " 'Fish-Footman': 2,\n",
       " 'Footman': 2,\n",
       " 'Footman,': 1,\n",
       " 'Footman’s': 1,\n",
       " 'For': 2,\n",
       " 'Frog-Footman': 1,\n",
       " 'He': 1,\n",
       " 'I': 3,\n",
       " 'It': 1,\n",
       " 'I’m': 1,\n",
       " 'Queen': 1,\n",
       " 'Queen.': 1,\n",
       " 'She': 1,\n",
       " 'The': 2,\n",
       " 'Then': 1,\n",
       " 'a': 15,\n",
       " 'about,': 1,\n",
       " 'against': 1,\n",
       " 'all': 3,\n",
       " 'aloud.': 1,\n",
       " 'am': 2,\n",
       " 'and': 16,\n",
       " 'another': 1,\n",
       " 'answer': 1,\n",
       " 'any': 1,\n",
       " 'are': 1,\n",
       " 'are;': 1,\n",
       " 'arm': 1,\n",
       " 'as': 4,\n",
       " 'at': 6,\n",
       " 'attending': 1,\n",
       " 'back': 1,\n",
       " 'be': 2,\n",
       " 'because': 3,\n",
       " 'been': 1,\n",
       " 'began': 1,\n",
       " 'behind': 1,\n",
       " 'between': 1,\n",
       " 'both': 2,\n",
       " 'bowed': 1,\n",
       " 'broke': 1,\n",
       " 'broken': 1,\n",
       " 'by': 3,\n",
       " 'called': 1,\n",
       " 'came': 2,\n",
       " 'can’t': 1,\n",
       " 'certainly': 1,\n",
       " 'changing': 1,\n",
       " 'considered': 1,\n",
       " 'constant': 1,\n",
       " 'could': 2,\n",
       " 'crash,': 1,\n",
       " 'crept': 1,\n",
       " 'croquet.’': 2,\n",
       " 'curious': 1,\n",
       " 'curled': 1,\n",
       " 'curls': 1,\n",
       " 'decidedly': 1,\n",
       " 'dish': 1,\n",
       " 'do': 1,\n",
       " 'door': 4,\n",
       " 'door,': 2,\n",
       " 'entangled': 1,\n",
       " 'every': 1,\n",
       " 'extraordinary': 1,\n",
       " 'eyes': 2,\n",
       " 'face': 1,\n",
       " 'face,': 1,\n",
       " 'fear': 1,\n",
       " 'felt': 1,\n",
       " 'fish)—and': 1,\n",
       " 'footman': 3,\n",
       " 'footmen,': 1,\n",
       " 'for': 3,\n",
       " 'frog;': 1,\n",
       " 'from': 2,\n",
       " 'get': 2,\n",
       " 'going': 1,\n",
       " 'gone,': 1,\n",
       " 'got': 1,\n",
       " 'grazed': 1,\n",
       " 'great': 2,\n",
       " 'ground': 1,\n",
       " 'had': 4,\n",
       " 'hair': 1,\n",
       " 'handed': 1,\n",
       " 'have': 1,\n",
       " 'he': 5,\n",
       " 'head.': 1,\n",
       " 'head:': 1,\n",
       " 'heads.': 1,\n",
       " 'hear': 1,\n",
       " 'hearing': 1,\n",
       " 'help': 1,\n",
       " 'her,': 1,\n",
       " 'her;': 1,\n",
       " 'here,’': 1,\n",
       " 'herself;': 1,\n",
       " 'him': 2,\n",
       " 'him.': 1,\n",
       " 'himself,': 1,\n",
       " 'his': 5,\n",
       " 'house': 1,\n",
       " 'house,': 1,\n",
       " 'howling': 1,\n",
       " 'if': 2,\n",
       " 'in': 7,\n",
       " 'in?’': 2,\n",
       " 'inside,': 2,\n",
       " 'instance,': 1,\n",
       " 'into': 3,\n",
       " 'invitation': 2,\n",
       " 'it': 2,\n",
       " 'it,’': 1,\n",
       " 'judging': 1,\n",
       " 'just': 1,\n",
       " 'kettle': 1,\n",
       " 'knock,': 1,\n",
       " 'knocked.': 1,\n",
       " 'knocking,’': 2,\n",
       " 'know': 1,\n",
       " 'know.’': 1,\n",
       " 'knuckles.': 1,\n",
       " 'large': 3,\n",
       " 'laughed': 1,\n",
       " 'let': 1,\n",
       " 'letter,': 1,\n",
       " 'like': 1,\n",
       " 'listen.': 1,\n",
       " 'little': 1,\n",
       " 'little,': 1,\n",
       " 'livery': 1,\n",
       " 'livery,': 1,\n",
       " 'livery:': 1,\n",
       " 'looking': 2,\n",
       " 'loudly': 1,\n",
       " 'low,': 1,\n",
       " 'making': 1,\n",
       " 'might': 3,\n",
       " 'minute': 1,\n",
       " 'moment': 1,\n",
       " 'most': 1,\n",
       " 'much': 1,\n",
       " 'near': 1,\n",
       " 'nearly': 2,\n",
       " 'next': 1,\n",
       " 'next,': 1,\n",
       " 'no': 2,\n",
       " 'noise': 2,\n",
       " 'nose,': 1,\n",
       " 'noticed,': 1,\n",
       " 'now': 1,\n",
       " 'of': 9,\n",
       " 'on': 4,\n",
       " 'one': 2,\n",
       " 'only': 1,\n",
       " 'only,': 1,\n",
       " 'opened': 1,\n",
       " 'opened,': 1,\n",
       " 'or': 2,\n",
       " 'order': 1,\n",
       " 'other': 1,\n",
       " 'other,': 1,\n",
       " 'otherwise,': 1,\n",
       " 'out': 3,\n",
       " 'out,': 2,\n",
       " 'over': 2,\n",
       " 'peeped': 1,\n",
       " 'perhaps': 1,\n",
       " 'pieces': 1,\n",
       " 'pieces.': 1,\n",
       " 'plate': 1,\n",
       " 'play': 2,\n",
       " 'possibly': 1,\n",
       " 'powdered': 1,\n",
       " 'producing': 1,\n",
       " 'questions.—How': 1,\n",
       " 'rapped': 1,\n",
       " 'rate': 1,\n",
       " 'reasons.': 1,\n",
       " 'remarked,': 1,\n",
       " 'repeated,': 2,\n",
       " 'round': 1,\n",
       " 'run': 1,\n",
       " 'running': 1,\n",
       " 'said': 3,\n",
       " 'same': 2,\n",
       " 'saying,': 1,\n",
       " 'secondly,': 1,\n",
       " 'sense': 1,\n",
       " 'shall': 1,\n",
       " 'she': 6,\n",
       " 'side': 1,\n",
       " 'sit': 1,\n",
       " 'sitting': 1,\n",
       " 'skimming': 1,\n",
       " 'sky': 1,\n",
       " 'sky.': 1,\n",
       " 'sneezing,': 1,\n",
       " 'so': 2,\n",
       " 'solemn': 2,\n",
       " 'some': 1,\n",
       " 'sort': 1,\n",
       " 'speaking,': 1,\n",
       " 'staring': 1,\n",
       " 'stood': 1,\n",
       " 'straight': 1,\n",
       " 'stupidly': 1,\n",
       " 'such': 1,\n",
       " 'suddenly': 1,\n",
       " 'that': 3,\n",
       " 'the': 32,\n",
       " 'their': 3,\n",
       " 'then': 1,\n",
       " 'then,’': 1,\n",
       " 'there': 1,\n",
       " 'they': 1,\n",
       " 'they’re': 1,\n",
       " 'this': 3,\n",
       " 'this,': 1,\n",
       " 'thought': 1,\n",
       " 'time': 1,\n",
       " 'timidly': 1,\n",
       " 'to': 15,\n",
       " 'together.': 1,\n",
       " 'tomorrow—’': 1,\n",
       " 'tone,': 2,\n",
       " 'top': 1,\n",
       " 'trees': 1,\n",
       " 'two': 2,\n",
       " 'uncivil.': 1,\n",
       " 'under': 1,\n",
       " 'up': 3,\n",
       " 'us.': 1,\n",
       " 'use': 1,\n",
       " 'very': 2,\n",
       " 'was': 8,\n",
       " 'way': 1,\n",
       " 'we': 1,\n",
       " 'went': 2,\n",
       " 'were': 1,\n",
       " 'what': 2,\n",
       " 'when': 2,\n",
       " 'with': 2,\n",
       " 'within—a': 1,\n",
       " 'without': 1,\n",
       " 'wondering': 1,\n",
       " 'wood': 2,\n",
       " 'wood—(she': 1,\n",
       " 'words': 1,\n",
       " 'would': 1,\n",
       " 'you': 5,\n",
       " 'you.’': 1,\n",
       " 'your': 1,\n",
       " '‘But': 1,\n",
       " '‘For': 1,\n",
       " '‘From': 1,\n",
       " '‘I': 1,\n",
       " '‘Please,': 1,\n",
       " '‘There': 1,\n",
       " '‘There’s': 1,\n",
       " '‘and': 1,\n",
       " '‘his': 1,\n",
       " '‘how': 1,\n",
       " '‘if': 1,\n",
       " '‘till': 1}"
      ]
     },
     "execution_count": 6,
     "metadata": {},
     "output_type": "execute_result"
    }
   ],
   "source": [
    "import string\n",
    "\n",
    "paragraph_text = '''\n",
    "For a minute or two she stood looking at the house, and wondering what to do next, when suddenly a footman in livery came running out of the wood—(she considered him to be a footman because he was in livery: otherwise, judging by his face only, she would have called him a fish)—and rapped loudly at the door with his knuckles. It was opened by another footman in livery, with a round face, and large eyes like a frog; and both footmen, Alice noticed, had powdered hair that curled all over their heads. She felt very curious to know what it was all about, and crept a little way out of the wood to listen.\n",
    "The Fish-Footman began by producing from under his arm a great letter, nearly as large as himself, and this he handed over to the other, saying, in a solemn tone, ‘For the Duchess. An invitation from the Queen to play croquet.’ The Frog-Footman repeated, in the same solemn tone, only changing the order of the words a little, ‘From the Queen. An invitation for the Duchess to play croquet.’\n",
    "Then they both bowed low, and their curls got entangled together.\n",
    "Alice laughed so much at this, that she had to run back into the wood for fear of their hearing her; and when she next peeped out the Fish-Footman was gone, and the other was sitting on the ground near the door, staring stupidly up into the sky.\n",
    "Alice went timidly up to the door, and knocked.\n",
    "‘There’s no sort of use in knocking,’ said the Footman, ‘and that for two reasons. First, because I’m on the same side of the door as you are; secondly, because they’re making such a noise inside, no one could possibly hear you.’ And certainly there was a most extraordinary noise going on within—a constant howling and sneezing, and every now and then a great crash, as if a dish or kettle had been broken to pieces.\n",
    "‘Please, then,’ said Alice, ‘how am I to get in?’\n",
    "‘There might be some sense in your knocking,’ the Footman went on without attending to her, ‘if we had the door between us. For instance, if you were inside, you might knock, and I could let you out, you know.’ He was looking up into the sky all the time he was speaking, and this Alice thought decidedly uncivil. ‘But perhaps he can’t help it,’ she said to herself; ‘his eyes are so very nearly at the top of his head. But at any rate he might answer questions.—How am I to get in?’ she repeated, aloud.\n",
    "‘I shall sit here,’ the Footman remarked, ‘till tomorrow—’\n",
    "At this moment the door of the house opened, and a large plate came skimming out, straight at the Footman’s head: it just grazed his nose, and broke to pieces against one of the trees behind him.'''\n",
    "\n",
    "\n",
    "counts(paragraph_text.split())\n"
   ]
  },
  {
   "cell_type": "code",
   "execution_count": 7,
   "metadata": {
    "collapsed": false
   },
   "outputs": [
    {
     "data": {
      "text/plain": [
       "{'Alice': 5,\n",
       " 'An': 2,\n",
       " 'And': 1,\n",
       " 'At': 1,\n",
       " 'But': 1,\n",
       " 'Duchess': 2,\n",
       " 'First': 1,\n",
       " 'FishFootman': 2,\n",
       " 'Footman': 3,\n",
       " 'Footman’s': 1,\n",
       " 'For': 2,\n",
       " 'FrogFootman': 1,\n",
       " 'He': 1,\n",
       " 'I': 3,\n",
       " 'It': 1,\n",
       " 'I’m': 1,\n",
       " 'Queen': 2,\n",
       " 'She': 1,\n",
       " 'The': 2,\n",
       " 'Then': 1,\n",
       " 'a': 15,\n",
       " 'about': 1,\n",
       " 'against': 1,\n",
       " 'all': 3,\n",
       " 'aloud': 1,\n",
       " 'am': 2,\n",
       " 'and': 16,\n",
       " 'another': 1,\n",
       " 'answer': 1,\n",
       " 'any': 1,\n",
       " 'are': 2,\n",
       " 'arm': 1,\n",
       " 'as': 4,\n",
       " 'at': 6,\n",
       " 'attending': 1,\n",
       " 'back': 1,\n",
       " 'be': 2,\n",
       " 'because': 3,\n",
       " 'been': 1,\n",
       " 'began': 1,\n",
       " 'behind': 1,\n",
       " 'between': 1,\n",
       " 'both': 2,\n",
       " 'bowed': 1,\n",
       " 'broke': 1,\n",
       " 'broken': 1,\n",
       " 'by': 3,\n",
       " 'called': 1,\n",
       " 'came': 2,\n",
       " 'can’t': 1,\n",
       " 'certainly': 1,\n",
       " 'changing': 1,\n",
       " 'considered': 1,\n",
       " 'constant': 1,\n",
       " 'could': 2,\n",
       " 'crash': 1,\n",
       " 'crept': 1,\n",
       " 'croquet’': 2,\n",
       " 'curious': 1,\n",
       " 'curled': 1,\n",
       " 'curls': 1,\n",
       " 'decidedly': 1,\n",
       " 'dish': 1,\n",
       " 'do': 1,\n",
       " 'door': 6,\n",
       " 'entangled': 1,\n",
       " 'every': 1,\n",
       " 'extraordinary': 1,\n",
       " 'eyes': 2,\n",
       " 'face': 2,\n",
       " 'fear': 1,\n",
       " 'felt': 1,\n",
       " 'fish—and': 1,\n",
       " 'footman': 3,\n",
       " 'footmen': 1,\n",
       " 'for': 3,\n",
       " 'frog': 1,\n",
       " 'from': 2,\n",
       " 'get': 2,\n",
       " 'going': 1,\n",
       " 'gone': 1,\n",
       " 'got': 1,\n",
       " 'grazed': 1,\n",
       " 'great': 2,\n",
       " 'ground': 1,\n",
       " 'had': 4,\n",
       " 'hair': 1,\n",
       " 'handed': 1,\n",
       " 'have': 1,\n",
       " 'he': 5,\n",
       " 'head': 2,\n",
       " 'heads': 1,\n",
       " 'hear': 1,\n",
       " 'hearing': 1,\n",
       " 'help': 1,\n",
       " 'her': 2,\n",
       " 'here’': 1,\n",
       " 'herself': 1,\n",
       " 'him': 3,\n",
       " 'himself': 1,\n",
       " 'his': 5,\n",
       " 'house': 2,\n",
       " 'howling': 1,\n",
       " 'if': 2,\n",
       " 'in': 7,\n",
       " 'inside': 2,\n",
       " 'instance': 1,\n",
       " 'into': 3,\n",
       " 'invitation': 2,\n",
       " 'in’': 2,\n",
       " 'it': 2,\n",
       " 'it’': 1,\n",
       " 'judging': 1,\n",
       " 'just': 1,\n",
       " 'kettle': 1,\n",
       " 'knock': 1,\n",
       " 'knocked': 1,\n",
       " 'knocking’': 2,\n",
       " 'know': 1,\n",
       " 'know’': 1,\n",
       " 'knuckles': 1,\n",
       " 'large': 3,\n",
       " 'laughed': 1,\n",
       " 'let': 1,\n",
       " 'letter': 1,\n",
       " 'like': 1,\n",
       " 'listen': 1,\n",
       " 'little': 2,\n",
       " 'livery': 3,\n",
       " 'looking': 2,\n",
       " 'loudly': 1,\n",
       " 'low': 1,\n",
       " 'making': 1,\n",
       " 'might': 3,\n",
       " 'minute': 1,\n",
       " 'moment': 1,\n",
       " 'most': 1,\n",
       " 'much': 1,\n",
       " 'near': 1,\n",
       " 'nearly': 2,\n",
       " 'next': 2,\n",
       " 'no': 2,\n",
       " 'noise': 2,\n",
       " 'nose': 1,\n",
       " 'noticed': 1,\n",
       " 'now': 1,\n",
       " 'of': 9,\n",
       " 'on': 4,\n",
       " 'one': 2,\n",
       " 'only': 2,\n",
       " 'opened': 2,\n",
       " 'or': 2,\n",
       " 'order': 1,\n",
       " 'other': 2,\n",
       " 'otherwise': 1,\n",
       " 'out': 5,\n",
       " 'over': 2,\n",
       " 'peeped': 1,\n",
       " 'perhaps': 1,\n",
       " 'pieces': 2,\n",
       " 'plate': 1,\n",
       " 'play': 2,\n",
       " 'possibly': 1,\n",
       " 'powdered': 1,\n",
       " 'producing': 1,\n",
       " 'questions—How': 1,\n",
       " 'rapped': 1,\n",
       " 'rate': 1,\n",
       " 'reasons': 1,\n",
       " 'remarked': 1,\n",
       " 'repeated': 2,\n",
       " 'round': 1,\n",
       " 'run': 1,\n",
       " 'running': 1,\n",
       " 'said': 3,\n",
       " 'same': 2,\n",
       " 'saying': 1,\n",
       " 'secondly': 1,\n",
       " 'sense': 1,\n",
       " 'shall': 1,\n",
       " 'she': 6,\n",
       " 'side': 1,\n",
       " 'sit': 1,\n",
       " 'sitting': 1,\n",
       " 'skimming': 1,\n",
       " 'sky': 2,\n",
       " 'sneezing': 1,\n",
       " 'so': 2,\n",
       " 'solemn': 2,\n",
       " 'some': 1,\n",
       " 'sort': 1,\n",
       " 'speaking': 1,\n",
       " 'staring': 1,\n",
       " 'stood': 1,\n",
       " 'straight': 1,\n",
       " 'stupidly': 1,\n",
       " 'such': 1,\n",
       " 'suddenly': 1,\n",
       " 'that': 3,\n",
       " 'the': 32,\n",
       " 'their': 3,\n",
       " 'then': 1,\n",
       " 'then’': 1,\n",
       " 'there': 1,\n",
       " 'they': 1,\n",
       " 'they’re': 1,\n",
       " 'this': 4,\n",
       " 'thought': 1,\n",
       " 'time': 1,\n",
       " 'timidly': 1,\n",
       " 'to': 15,\n",
       " 'together': 1,\n",
       " 'tomorrow—’': 1,\n",
       " 'tone': 2,\n",
       " 'top': 1,\n",
       " 'trees': 1,\n",
       " 'two': 2,\n",
       " 'uncivil': 1,\n",
       " 'under': 1,\n",
       " 'up': 3,\n",
       " 'us': 1,\n",
       " 'use': 1,\n",
       " 'very': 2,\n",
       " 'was': 8,\n",
       " 'way': 1,\n",
       " 'we': 1,\n",
       " 'went': 2,\n",
       " 'were': 1,\n",
       " 'what': 2,\n",
       " 'when': 2,\n",
       " 'with': 2,\n",
       " 'within—a': 1,\n",
       " 'without': 1,\n",
       " 'wondering': 1,\n",
       " 'wood': 2,\n",
       " 'wood—she': 1,\n",
       " 'words': 1,\n",
       " 'would': 1,\n",
       " 'you': 5,\n",
       " 'your': 1,\n",
       " 'you’': 1,\n",
       " '‘But': 1,\n",
       " '‘For': 1,\n",
       " '‘From': 1,\n",
       " '‘I': 1,\n",
       " '‘Please': 1,\n",
       " '‘There': 1,\n",
       " '‘There’s': 1,\n",
       " '‘and': 1,\n",
       " '‘his': 1,\n",
       " '‘how': 1,\n",
       " '‘if': 1,\n",
       " '‘till': 1}"
      ]
     },
     "execution_count": 7,
     "metadata": {},
     "output_type": "execute_result"
    }
   ],
   "source": [
    "# Bonus: Without Punctuation\n",
    "import string\n",
    "\n",
    "paragraph_text = '''\n",
    "For a minute or two she stood looking at the house, and wondering what to do next, when suddenly a footman in livery came running out of the wood—(she considered him to be a footman because he was in livery: otherwise, judging by his face only, she would have called him a fish)—and rapped loudly at the door with his knuckles. It was opened by another footman in livery, with a round face, and large eyes like a frog; and both footmen, Alice noticed, had powdered hair that curled all over their heads. She felt very curious to know what it was all about, and crept a little way out of the wood to listen.\n",
    "The Fish-Footman began by producing from under his arm a great letter, nearly as large as himself, and this he handed over to the other, saying, in a solemn tone, ‘For the Duchess. An invitation from the Queen to play croquet.’ The Frog-Footman repeated, in the same solemn tone, only changing the order of the words a little, ‘From the Queen. An invitation for the Duchess to play croquet.’\n",
    "Then they both bowed low, and their curls got entangled together.\n",
    "Alice laughed so much at this, that she had to run back into the wood for fear of their hearing her; and when she next peeped out the Fish-Footman was gone, and the other was sitting on the ground near the door, staring stupidly up into the sky.\n",
    "Alice went timidly up to the door, and knocked.\n",
    "‘There’s no sort of use in knocking,’ said the Footman, ‘and that for two reasons. First, because I’m on the same side of the door as you are; secondly, because they’re making such a noise inside, no one could possibly hear you.’ And certainly there was a most extraordinary noise going on within—a constant howling and sneezing, and every now and then a great crash, as if a dish or kettle had been broken to pieces.\n",
    "‘Please, then,’ said Alice, ‘how am I to get in?’\n",
    "‘There might be some sense in your knocking,’ the Footman went on without attending to her, ‘if we had the door between us. For instance, if you were inside, you might knock, and I could let you out, you know.’ He was looking up into the sky all the time he was speaking, and this Alice thought decidedly uncivil. ‘But perhaps he can’t help it,’ she said to herself; ‘his eyes are so very nearly at the top of his head. But at any rate he might answer questions.—How am I to get in?’ she repeated, aloud.\n",
    "‘I shall sit here,’ the Footman remarked, ‘till tomorrow—’\n",
    "At this moment the door of the house opened, and a large plate came skimming out, straight at the Footman’s head: it just grazed his nose, and broke to pieces against one of the trees behind him.'''\n",
    "\n",
    "\n",
    "for item in string.punctuation:\n",
    "    paragraph_text = paragraph_text.replace(item,'')\n",
    "\n",
    "# print(paragraph_text)\n",
    "\n",
    "counts(paragraph_text.split())\n"
   ]
  },
  {
   "cell_type": "markdown",
   "metadata": {},
   "source": [
    "## 4. Read in a file and write each line from the file to a new file Title-ized\n",
    "\n",
    "`This is the first line` ->  `This Is The First Line`\n",
    "\n",
    "Hint: There's a function to do this"
   ]
  },
  {
   "cell_type": "code",
   "execution_count": 12,
   "metadata": {
    "collapsed": false
   },
   "outputs": [
    {
     "name": "stdout",
     "output_type": "stream",
     "text": [
      "For A Minute Or Two She Stood Looking At The House And Wondering What To Do Next When Suddenly A Footman In Livery Came Running Out Of The Wood—She Considered Him To Be A Footman Because He Was In Livery Otherwise Judging By His Face Only She Would Have Called Him A Fish—And Rapped Loudly At The Door With His Knuckles It Was Opened By Another Footman In Livery With A Round Face And Large Eyes Like A Frog And Both Footmen Alice Noticed Had Powdered Hair That Curled All Over Their Heads She Felt Very Curious To Know What It Was All About And Crept A Little Way Out Of The Wood To Listen\n",
      "The Fishfootman Began By Producing From Under His Arm A Great Letter Nearly As Large As Himself And This He Handed Over To The Other Saying In A Solemn Tone ‘For The Duchess An Invitation From The Queen To Play Croquet’ The Frogfootman Repeated In The Same Solemn Tone Only Changing The Order Of The Words A Little ‘From The Queen An Invitation For The Duchess To Play Croquet’\n",
      "Then They Both Bowed Low And Their Curls Got Entangled Together\n",
      "Alice Laughed So Much At This That She Had To Run Back Into The Wood For Fear Of Their Hearing Her And When She Next Peeped Out The Fishfootman Was Gone And The Other Was Sitting On The Ground Near The Door Staring Stupidly Up Into The Sky\n",
      "Alice Went Timidly Up To The Door And Knocked\n",
      "‘There’S No Sort Of Use In Knocking’ Said The Footman ‘And That For Two Reasons First Because I’M On The Same Side Of The Door As You Are Secondly Because They’Re Making Such A Noise Inside No One Could Possibly Hear You’ And Certainly There Was A Most Extraordinary Noise Going On Within—A Constant Howling And Sneezing And Every Now And Then A Great Crash As If A Dish Or Kettle Had Been Broken To Pieces\n",
      "‘Please Then’ Said Alice ‘How Am I To Get In’\n",
      "‘There Might Be Some Sense In Your Knocking’ The Footman Went On Without Attending To Her ‘If We Had The Door Between Us For Instance If You Were Inside You Might Knock And I Could Let You Out You Know’ He Was Looking Up Into The Sky All The Time He Was Speaking And This Alice Thought Decidedly Uncivil ‘But Perhaps He Can’T Help It’ She Said To Herself ‘His Eyes Are So Very Nearly At The Top Of His Head But At Any Rate He Might Answer Questions—How Am I To Get In’ She Repeated Aloud\n",
      "‘I Shall Sit Here’ The Footman Remarked ‘Till Tomorrow—’\n",
      "At This Moment The Door Of The House Opened And A Large Plate Came Skimming Out Straight At The Footman’S Head It Just Grazed His Nose And Broke To Pieces Against One Of The Trees Behind Him\n"
     ]
    }
   ],
   "source": [
    "import string \n",
    "\n",
    "f = open('title_ized_file.txt')\n",
    "file_text = f.read()\n",
    "f.close()\n",
    "print(file_text.title())\n",
    "s = file_text.title()\n",
    "\n",
    "with open('file_text_titleized', 'w') as nf:\n",
    "    nf.write(s)"
   ]
  },
  {
   "cell_type": "markdown",
   "metadata": {},
   "source": [
    "# Numpy"
   ]
  },
  {
   "cell_type": "markdown",
   "metadata": {},
   "source": [
    "## 1. Given a list, find the average using a numpy function. "
   ]
  },
  {
   "cell_type": "code",
   "execution_count": 13,
   "metadata": {
    "collapsed": false
   },
   "outputs": [
    {
     "name": "stdout",
     "output_type": "stream",
     "text": [
      "3.375\n"
     ]
    }
   ],
   "source": [
    "import numpy as np\n",
    "\n",
    "simple_list = [1,2,1,4,3,2,5,9]\n",
    "\n",
    "avg = np.mean(simple_list)\n",
    "print(avg)"
   ]
  },
  {
   "cell_type": "markdown",
   "metadata": {},
   "source": [
    "## 2. Given two lists of Heights and Weights of individual, calculate the BMI of those individuals, without writing a `for-loop`"
   ]
  },
  {
   "cell_type": "code",
   "execution_count": 5,
   "metadata": {
    "collapsed": false
   },
   "outputs": [
    {
     "name": "stdout",
     "output_type": "stream",
     "text": [
      "[ 29.06592681  27.73229978  30.73941662  24.16326531  26.33288875]\n"
     ]
    }
   ],
   "source": [
    "import numpy as np\n",
    "\n",
    "heights = [174, 173, 173, 175, 171]\n",
    "weights = [88, 83, 92, 74, 77]\n",
    "\n",
    "# Assuming Metric:\n",
    "# Height is in centimeters(CM) -> convert to meters\n",
    "# Weight is in kilograms(kg)\n",
    "# BMI = weight/(height/100)^2\n",
    "\n",
    "np_heights = np.array(heights)\n",
    "# print(np_heights)\n",
    "np_weights = np.array(weights)\n",
    "# print(np_weights)\n",
    "\n",
    "bmi = np_weights / (np_heights/100)**2\n",
    "\n",
    "print(bmi)\n",
    "\n"
   ]
  },
  {
   "cell_type": "markdown",
   "metadata": {},
   "source": [
    "## 3. Create an array of length 20 filled with random values (between 0 to 1) "
   ]
  },
  {
   "cell_type": "code",
   "execution_count": 14,
   "metadata": {
    "collapsed": false
   },
   "outputs": [
    {
     "data": {
      "text/plain": [
       "array([ 0.748737  ,  0.01097808,  0.2853616 ,  0.19541661,  0.28853596,\n",
       "        0.10737131,  0.95862189,  0.35104309,  0.75794109,  0.82828012,\n",
       "        0.21833716,  0.20654268,  0.89019699,  0.50383426,  0.75913226,\n",
       "        0.21275853,  0.34699101,  0.67723952,  0.63318042,  0.91212196])"
      ]
     },
     "execution_count": 14,
     "metadata": {},
     "output_type": "execute_result"
    }
   ],
   "source": [
    "import numpy as np\n",
    "np.random.rand(20)"
   ]
  },
  {
   "cell_type": "markdown",
   "metadata": {},
   "source": [
    "## Bonus. 1. Create an array with a large (>1000) length filled with random numbers from different distributions (normal, uniform, etc.). 2. Then, plot a histogram of these values. "
   ]
  },
  {
   "cell_type": "code",
   "execution_count": 13,
   "metadata": {
    "collapsed": false
   },
   "outputs": [
    {
     "name": "stdout",
     "output_type": "stream",
     "text": [
      "1200\n"
     ]
    },
    {
     "data": {
      "text/plain": [
       "(array([   1.,    5.,   18.,   70.,  137.,  432.,  476.,   48.,   11.,    2.]),\n",
       " array([-4.07481627, -3.31892728, -2.56303829, -1.80714931, -1.05126032,\n",
       "        -0.29537133,  0.46051765,  1.21640664,  1.97229562,  2.72818461,\n",
       "         3.4840736 ]),\n",
       " <a list of 10 Patch objects>)"
      ]
     },
     "execution_count": 13,
     "metadata": {},
     "output_type": "execute_result"
    },
    {
     "data": {
      "image/png": "[encoded data removed]",
      "text/plain": [
       "<matplotlib.figure.Figure at 0x10f0a8860>"
      ]
     },
     "metadata": {},
     "output_type": "display_data"
    }
   ],
   "source": [
    "import numpy as np\n",
    "\n",
    "a = np.random.rand(600)\n",
    "a = np.array(a)\n",
    "# print(len(a))\n",
    "# print(type(a))\n",
    "b = np.random.randn(600)\n",
    "b = np.array(b)\n",
    "# print(len(b))\n",
    "# print(type(b))\n",
    "\n",
    "y = np.concatenate([a,b])\n",
    "print(len(y))\n",
    "\n",
    "plt.hist(y, normed=False)\n"
   ]
  },
  {
   "cell_type": "markdown",
   "metadata": {},
   "source": [
    "# Pandas"
   ]
  },
  {
   "cell_type": "markdown",
   "metadata": {},
   "source": [
    "## 1. Read in a CSV () and display all the columns and their respective data types "
   ]
  },
  {
   "cell_type": "code",
   "execution_count": 16,
   "metadata": {
    "collapsed": false
   },
   "outputs": [
    {
     "data": {
      "text/plain": [
       "id         int64\n",
       "sex       object\n",
       "weight     int64\n",
       "height     int64\n",
       "dtype: object"
      ]
     },
     "execution_count": 16,
     "metadata": {},
     "output_type": "execute_result"
    }
   ],
   "source": [
    "import pandas as pd\n",
    "df = pd.read_csv('hw_data.csv').head()\n",
    "# print(df)\n",
    "df.dtypes"
   ]
  },
  {
   "cell_type": "markdown",
   "metadata": {},
   "source": [
    "## 2. Find the average weight "
   ]
  },
  {
   "cell_type": "code",
   "execution_count": 17,
   "metadata": {
    "collapsed": false
   },
   "outputs": [
    {
     "data": {
      "text/plain": [
       "138.0"
      ]
     },
     "execution_count": 17,
     "metadata": {},
     "output_type": "execute_result"
    }
   ],
   "source": [
    "df['weight'].mean()"
   ]
  },
  {
   "cell_type": "markdown",
   "metadata": {},
   "source": [
    "## 3. Find the Value Counts on column `sex` "
   ]
  },
  {
   "cell_type": "code",
   "execution_count": 18,
   "metadata": {
    "collapsed": false
   },
   "outputs": [
    {
     "data": {
      "text/plain": [
       "F    2\n",
       "M    2\n",
       "O    1\n",
       "Name: sex, dtype: int64"
      ]
     },
     "execution_count": 18,
     "metadata": {},
     "output_type": "execute_result"
    }
   ],
   "source": [
    "df['sex'].value_counts()"
   ]
  },
  {
   "cell_type": "markdown",
   "metadata": {},
   "source": [
    "## 4. Plot Height vs. Weight "
   ]
  },
  {
   "cell_type": "code",
   "execution_count": 19,
   "metadata": {
    "collapsed": false
   },
   "outputs": [
    {
     "data": {
      "text/plain": [
       "[(65, 78)]"
      ]
     },
     "execution_count": 19,
     "metadata": {},
     "output_type": "execute_result"
    },
    {
     "data": {
      "image/png": "[encoded data removed]",
      "text/plain": [
       "<matplotlib.figure.Figure at 0x10c74d5c0>"
      ]
     },
     "metadata": {},
     "output_type": "display_data"
    }
   ],
   "source": [
    "ax = df.plot(x='height', y='weight', style='o')\n",
    "ax.set(xlim=[65, 78])"
   ]
  },
  {
   "cell_type": "markdown",
   "metadata": {},
   "source": [
    "## 5. Calculate BMI and save as a new column"
   ]
  },
  {
   "cell_type": "code",
   "execution_count": 20,
   "metadata": {
    "collapsed": false
   },
   "outputs": [
    {
     "name": "stdout",
     "output_type": "stream",
     "text": [
      "   id sex  weight  height        BMI\n",
      "0   1   M     190      77  23.073031\n",
      "1   2   F     120      70  17.632653\n",
      "2   3   F     110      68  17.128028\n",
      "3   4   M     150      72  20.833333\n",
      "4   5   O     120      66  19.834711\n"
     ]
    }
   ],
   "source": [
    "# BMI = weight (lbs) * 0.45) / (height (in) *0025)^2\n",
    "\n",
    "df['BMI'] = (df['weight']*0.45)/((df['height']*0.025)**2)\n",
    "print(df.head())"
   ]
  },
  {
   "cell_type": "markdown",
   "metadata": {},
   "source": [
    "## 6. Save sheet as a new CSV file `hw_dataB.csv`"
   ]
  },
  {
   "cell_type": "code",
   "execution_count": 21,
   "metadata": {
    "collapsed": false
   },
   "outputs": [],
   "source": [
    "df.to_csv('hw_dataB.csv')"
   ]
  },
  {
   "cell_type": "markdown",
   "metadata": {},
   "source": [
    "## Run the following"
   ]
  },
  {
   "cell_type": "code",
   "execution_count": 22,
   "metadata": {
    "collapsed": false
   },
   "outputs": [
    {
     "name": "stdout",
     "output_type": "stream",
     "text": [
      ",id,sex,weight,height,BMI\r\n",
      "0,1,M,190,77,23.073030865238653\r\n",
      "1,2,F,120,70,17.632653061224488\r\n",
      "2,3,F,110,68,17.128027681660896\r\n",
      "3,4,M,150,72,20.833333333333332\r\n",
      "4,5,O,120,66,19.834710743801647\r\n"
     ]
    }
   ],
   "source": [
    "!cat hw_dataB.csv"
   ]
  },
  {
   "cell_type": "code",
   "execution_count": null,
   "metadata": {
    "collapsed": true
   },
   "outputs": [],
   "source": []
  }
 ],
 "metadata": {
  "anaconda-cloud": {},
  "kernelspec": {
   "display_name": "Python [conda env:py3]",
   "language": "python",
   "name": "conda-env-py3-py"
  },
  "language_info": {
   "codemirror_mode": {
    "name": "ipython",
    "version": 3
   },
   "file_extension": ".py",
   "mimetype": "text/x-python",
   "name": "python",
   "nbconvert_exporter": "python",
   "pygments_lexer": "ipython3",
   "version": "3.6.1"
  }
 },
 "nbformat": 4,
 "nbformat_minor": 1
}
